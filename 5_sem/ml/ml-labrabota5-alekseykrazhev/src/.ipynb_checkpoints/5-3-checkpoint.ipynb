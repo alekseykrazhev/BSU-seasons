{
 "cells": [
  {
   "cell_type": "markdown",
   "id": "016f951d-4991-4941-9b54-725d90b6f0ec",
   "metadata": {},
   "source": [
    "# Задание 3. Применение кривых валидации и обучения для проверки модели"
   ]
  },
  {
   "cell_type": "markdown",
   "id": "963fe845-492a-4815-bfcc-9ac9e40a185d",
   "metadata": {},
   "source": [
    "## Реализовать пример 5. Кривые валидации и обучения для проверки модели на примере анализа данных по оттоку клиентов телеком-оператора."
   ]
  },
  {
   "cell_type": "markdown",
   "id": "86858185-b824-42ba-b9a3-aff2b26e7c24",
   "metadata": {},
   "source": [
    "### 5. Кривые валидации и обучения"
   ]
  },
  {
   "cell_type": "code",
   "execution_count": 7,
   "id": "3f6fb0a4-2e2a-4804-ab03-16ba50fe5c78",
   "metadata": {},
   "outputs": [],
   "source": [
    "from __future__ import division, print_function\n",
    "# отключим всякие предупреждения Anaconda\n",
    "import warnings\n",
    "warnings.filterwarnings('ignore')\n",
    "%matplotlib inline\n",
    "from matplotlib import pyplot as plt\n",
    "import seaborn as sns\n",
    "\n",
    "import numpy as np\n",
    "import pandas as pd\n",
    "from sklearn.preprocessing import PolynomialFeatures\n",
    "from sklearn.pipeline import Pipeline\n",
    "from sklearn.preprocessing import StandardScaler\n",
    "from sklearn.linear_model import LogisticRegression, LogisticRegressionCV, SGDClassifier\n",
    "from sklearn.model_selection import validation_curve\n",
    "\n",
    "data = pd.read_csv('datasets/telecom_churn.csv').drop('State', axis=1)\n",
    "data['International plan'] = data['International plan'].map({'Yes': 1, 'No': 0})\n",
    "data['Voice mail plan'] = data['Voice mail plan'].map({'Yes': 1, 'No': 0})\n",
    "\n",
    "y = data['Churn'].astype('int').values\n",
    "X = data.drop('Churn', axis=1).values"
   ]
  },
  {
   "cell_type": "code",
   "execution_count": 9,
   "id": "9b9e782b-ab92-44b2-b12d-ae42f2834452",
   "metadata": {},
   "outputs": [
    {
     "ename": "SyntaxError",
     "evalue": "positional argument follows keyword argument (4248035157.py, line 7)",
     "output_type": "error",
     "traceback": [
      "\u001b[0;36m  Input \u001b[0;32mIn [9]\u001b[0;36m\u001b[0m\n\u001b[0;31m    scoring='roc_auc')\u001b[0m\n\u001b[0m                     ^\u001b[0m\n\u001b[0;31mSyntaxError\u001b[0m\u001b[0;31m:\u001b[0m positional argument follows keyword argument\n"
     ]
    }
   ],
   "source": [
    "alphas = np.logspace(-2, 0, 20)\n",
    "sgd_logit = SGDClassifier(loss='log', n_jobs=-1, random_state=17)\n",
    "logit_pipe = Pipeline([('scaler', StandardScaler()), ('poly', PolynomialFeatures(degree=2)), \n",
    "('sgd_logit', sgd_logit)])\n",
    "val_train, val_test = validation_curve(logit_pipe, X, y,\n",
    "param_name='sgd_logit__alpha', alphas, cv=5,\n",
    "scoring='roc_auc')\n",
    "\n",
    "def plot_with_err(x, data, **kwargs):\n",
    "    mu, std = data.mean(1), data.std(1)\n",
    "    lines = plt.plot(x, mu, '-', **kwargs)\n",
    "    plt.fill_between(x, mu - std, mu + std, edgecolor='none',\n",
    "    facecolor=lines[0].get_color(), alpha=0.2)\n",
    "\n",
    "plot_with_err(alphas, val_train, label='training scores')\n",
    "plot_with_err(alphas, val_test, label='validation scores')\n",
    "plt.xlabel(r'$\\alpha$'); plt.ylabel('ROC AUC')\n",
    "plt.legend();"
   ]
  },
  {
   "cell_type": "code",
   "execution_count": 6,
   "id": "b9aaddcf-2ad7-456c-b84b-72e56c514f2d",
   "metadata": {},
   "outputs": [
    {
     "ename": "NameError",
     "evalue": "name 'plot_with_err' is not defined",
     "output_type": "error",
     "traceback": [
      "\u001b[0;31m---------------------------------------------------------------------------\u001b[0m",
      "\u001b[0;31mNameError\u001b[0m                                 Traceback (most recent call last)",
      "Input \u001b[0;32mIn [6]\u001b[0m, in \u001b[0;36m<cell line: 15>\u001b[0;34m()\u001b[0m\n\u001b[1;32m     12\u001b[0m     plt\u001b[38;5;241m.\u001b[39mxlabel(\u001b[38;5;124m'\u001b[39m\u001b[38;5;124mTraining Set Size\u001b[39m\u001b[38;5;124m'\u001b[39m); plt\u001b[38;5;241m.\u001b[39mylabel(\u001b[38;5;124m'\u001b[39m\u001b[38;5;124mAUC\u001b[39m\u001b[38;5;124m'\u001b[39m)\n\u001b[1;32m     13\u001b[0m     plt\u001b[38;5;241m.\u001b[39mlegend()\n\u001b[0;32m---> 15\u001b[0m \u001b[43mplot_learning_curve\u001b[49m\u001b[43m(\u001b[49m\u001b[43mdegree\u001b[49m\u001b[38;5;241;43m=\u001b[39;49m\u001b[38;5;241;43m2\u001b[39;49m\u001b[43m,\u001b[49m\u001b[43m \u001b[49m\u001b[43malpha\u001b[49m\u001b[38;5;241;43m=\u001b[39;49m\u001b[38;5;241;43m10\u001b[39;49m\u001b[43m)\u001b[49m\n",
      "Input \u001b[0;32mIn [6]\u001b[0m, in \u001b[0;36mplot_learning_curve\u001b[0;34m(degree, alpha)\u001b[0m\n\u001b[1;32m      5\u001b[0m logit_pipe \u001b[38;5;241m=\u001b[39m Pipeline([(\u001b[38;5;124m'\u001b[39m\u001b[38;5;124mscaler\u001b[39m\u001b[38;5;124m'\u001b[39m, StandardScaler()), (\u001b[38;5;124m'\u001b[39m\u001b[38;5;124mpoly\u001b[39m\u001b[38;5;124m'\u001b[39m, PolynomialFeatures(degree\u001b[38;5;241m=\u001b[39mdegree)), \n\u001b[1;32m      6\u001b[0m (\u001b[38;5;124m'\u001b[39m\u001b[38;5;124msgd_logit\u001b[39m\u001b[38;5;124m'\u001b[39m, SGDClassifier(n_jobs\u001b[38;5;241m=\u001b[39m\u001b[38;5;241m-\u001b[39m\u001b[38;5;241m1\u001b[39m, random_state\u001b[38;5;241m=\u001b[39m\u001b[38;5;241m17\u001b[39m, alpha\u001b[38;5;241m=\u001b[39malpha))])\n\u001b[1;32m      7\u001b[0m N_train, val_train, val_test \u001b[38;5;241m=\u001b[39m learning_curve(logit_pipe,\n\u001b[1;32m      8\u001b[0m X, y, train_sizes\u001b[38;5;241m=\u001b[39mtrain_sizes, cv\u001b[38;5;241m=\u001b[39m\u001b[38;5;241m5\u001b[39m,\n\u001b[1;32m      9\u001b[0m scoring\u001b[38;5;241m=\u001b[39m\u001b[38;5;124m'\u001b[39m\u001b[38;5;124mroc_auc\u001b[39m\u001b[38;5;124m'\u001b[39m)\n\u001b[0;32m---> 10\u001b[0m \u001b[43mplot_with_err\u001b[49m(N_train, val_train, label\u001b[38;5;241m=\u001b[39m\u001b[38;5;124m'\u001b[39m\u001b[38;5;124mtraining scores\u001b[39m\u001b[38;5;124m'\u001b[39m)\n\u001b[1;32m     11\u001b[0m plot_with_err(N_train, val_test, label\u001b[38;5;241m=\u001b[39m\u001b[38;5;124m'\u001b[39m\u001b[38;5;124mvalidation scores\u001b[39m\u001b[38;5;124m'\u001b[39m)\n\u001b[1;32m     12\u001b[0m plt\u001b[38;5;241m.\u001b[39mxlabel(\u001b[38;5;124m'\u001b[39m\u001b[38;5;124mTraining Set Size\u001b[39m\u001b[38;5;124m'\u001b[39m); plt\u001b[38;5;241m.\u001b[39mylabel(\u001b[38;5;124m'\u001b[39m\u001b[38;5;124mAUC\u001b[39m\u001b[38;5;124m'\u001b[39m)\n",
      "\u001b[0;31mNameError\u001b[0m: name 'plot_with_err' is not defined"
     ]
    }
   ],
   "source": [
    "from sklearn.model_selection import learning_curve\n",
    "\n",
    "def plot_learning_curve(degree=2, alpha=0.01):\n",
    "    train_sizes = np.linspace(0.05, 1, 20)\n",
    "    logit_pipe = Pipeline([('scaler', StandardScaler()), ('poly', PolynomialFeatures(degree=degree)), \n",
    "    ('sgd_logit', SGDClassifier(n_jobs=-1, random_state=17, alpha=alpha))])\n",
    "    N_train, val_train, val_test = learning_curve(logit_pipe,\n",
    "    X, y, train_sizes=train_sizes, cv=5,\n",
    "    scoring='roc_auc')\n",
    "    plot_with_err(N_train, val_train, label='training scores')\n",
    "    plot_with_err(N_train, val_test, label='validation scores')\n",
    "    plt.xlabel('Training Set Size'); plt.ylabel('AUC')\n",
    "    plt.legend()\n",
    "\n",
    "plot_learning_curve(degree=2, alpha=10)"
   ]
  }
 ],
 "metadata": {
  "kernelspec": {
   "display_name": "Python 3 (ipykernel)",
   "language": "python",
   "name": "python3"
  },
  "language_info": {
   "codemirror_mode": {
    "name": "ipython",
    "version": 3
   },
   "file_extension": ".py",
   "mimetype": "text/x-python",
   "name": "python",
   "nbconvert_exporter": "python",
   "pygments_lexer": "ipython3",
   "version": "3.9.12"
  }
 },
 "nbformat": 4,
 "nbformat_minor": 5
}
