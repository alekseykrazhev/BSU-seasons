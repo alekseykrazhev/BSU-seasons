{
  "nbformat": 4,
  "nbformat_minor": 0,
  "metadata": {
    "colab": {
      "provenance": []
    },
    "kernelspec": {
      "name": "python3",
      "display_name": "Python 3"
    },
    "language_info": {
      "name": "python"
    },
    "accelerator": "GPU",
    "gpuClass": "standard"
  },
  "cells": [
    {
      "cell_type": "markdown",
      "source": [
        "Задание 2. Вариант 4"
      ],
      "metadata": {
        "id": "bMp0SQgsWWA8"
      }
    },
    {
      "cell_type": "markdown",
      "source": [
        "Исследование сверточной нейронной сети для классификации полноцветных изображений из БД CIFAR-10"
      ],
      "metadata": {
        "id": "VG2r_LiWWan2"
      }
    },
    {
      "cell_type": "markdown",
      "source": [
        "Для БД CIFAR-10 – полноцветных изображений реальных объектов создать архитектуру сверточной НС с наименьшим числом нейронов, достаточных для правильной классификации изображений тестовой выборки на уровне не менее 92%. Обучить НС с контролем эффекта переобучения путем использования выборки валидации."
      ],
      "metadata": {
        "id": "95chY1WAWeiw"
      }
    },
    {
      "cell_type": "markdown",
      "source": [
        "Вар. 4. Провести анализ качества обучения НС при разных размерах минибатчей. Определить размер мини-батчей для обеспечения быстрого и качественного обучения сети."
      ],
      "metadata": {
        "id": "HqLfk9E8Wjqv"
      }
    },
    {
      "cell_type": "code",
      "source": [
        "import numpy\n",
        "from keras.models import Sequential\n",
        "from keras.layers import Dense, Dropout, Flatten, BatchNormalization, Activation\n",
        "from keras.layers.convolutional import Conv2D, MaxPooling2D\n",
        "from keras.constraints import maxnorm\n",
        "from keras.utils import np_utils\n",
        "\n",
        "import warnings\n",
        "warnings.filterwarnings('ignore')"
      ],
      "metadata": {
        "id": "4doWfQ3_WmjY"
      },
      "execution_count": 2,
      "outputs": []
    },
    {
      "cell_type": "code",
      "source": [
        "# Set random seed for purposes of reproducibility\n",
        "seed = 21"
      ],
      "metadata": {
        "id": "05BMnmNlWzAe"
      },
      "execution_count": 3,
      "outputs": []
    },
    {
      "cell_type": "code",
      "source": [
        "from keras.datasets import cifar10 # import dataset\n",
        "\n",
        "# loading in the data\n",
        "(X_train, y_train), (X_test, y_test) = cifar10.load_data()"
      ],
      "metadata": {
        "colab": {
          "base_uri": "https://localhost:8080/"
        },
        "id": "JjaQtxsyW8VW",
        "outputId": "e7ee33f1-083c-494f-b4b0-97ffe123179d"
      },
      "execution_count": 4,
      "outputs": [
        {
          "output_type": "stream",
          "name": "stdout",
          "text": [
            "Downloading data from https://www.cs.toronto.edu/~kriz/cifar-10-python.tar.gz\n",
            "170498071/170498071 [==============================] - 14s 0us/step\n"
          ]
        }
      ]
    },
    {
      "cell_type": "code",
      "source": [
        "# normalize the inputs from 0-255 to between 0 and 1 by dividing by 255\n",
        "X_train = X_train.astype('float32')\n",
        "X_test = X_test.astype('float32')\n",
        "X_train = X_train / 255.0\n",
        "X_test = X_test / 255.0"
      ],
      "metadata": {
        "id": "eVVD-PHvXH8y"
      },
      "execution_count": 5,
      "outputs": []
    },
    {
      "cell_type": "code",
      "source": [
        "X_train[:1]"
      ],
      "metadata": {
        "colab": {
          "base_uri": "https://localhost:8080/"
        },
        "id": "1YplpZiaXKlu",
        "outputId": "83f00e2e-685f-4fde-8049-5fc7dba2d6ca"
      },
      "execution_count": 6,
      "outputs": [
        {
          "output_type": "execute_result",
          "data": {
            "text/plain": [
              "array([[[[0.23137255, 0.24313726, 0.24705882],\n",
              "         [0.16862746, 0.18039216, 0.1764706 ],\n",
              "         [0.19607843, 0.1882353 , 0.16862746],\n",
              "         ...,\n",
              "         [0.61960787, 0.5176471 , 0.42352942],\n",
              "         [0.59607846, 0.49019608, 0.4       ],\n",
              "         [0.5803922 , 0.4862745 , 0.40392157]],\n",
              "\n",
              "        [[0.0627451 , 0.07843138, 0.07843138],\n",
              "         [0.        , 0.        , 0.        ],\n",
              "         [0.07058824, 0.03137255, 0.        ],\n",
              "         ...,\n",
              "         [0.48235294, 0.34509805, 0.21568628],\n",
              "         [0.46666667, 0.3254902 , 0.19607843],\n",
              "         [0.47843137, 0.34117648, 0.22352941]],\n",
              "\n",
              "        [[0.09803922, 0.09411765, 0.08235294],\n",
              "         [0.0627451 , 0.02745098, 0.        ],\n",
              "         [0.19215687, 0.10588235, 0.03137255],\n",
              "         ...,\n",
              "         [0.4627451 , 0.32941177, 0.19607843],\n",
              "         [0.47058824, 0.32941177, 0.19607843],\n",
              "         [0.42745098, 0.28627452, 0.16470589]],\n",
              "\n",
              "        ...,\n",
              "\n",
              "        [[0.8156863 , 0.6666667 , 0.3764706 ],\n",
              "         [0.7882353 , 0.6       , 0.13333334],\n",
              "         [0.7764706 , 0.6313726 , 0.10196079],\n",
              "         ...,\n",
              "         [0.627451  , 0.52156866, 0.27450982],\n",
              "         [0.21960784, 0.12156863, 0.02745098],\n",
              "         [0.20784314, 0.13333334, 0.07843138]],\n",
              "\n",
              "        [[0.7058824 , 0.54509807, 0.3764706 ],\n",
              "         [0.6784314 , 0.48235294, 0.16470589],\n",
              "         [0.7294118 , 0.5647059 , 0.11764706],\n",
              "         ...,\n",
              "         [0.72156864, 0.5803922 , 0.36862746],\n",
              "         [0.38039216, 0.24313726, 0.13333334],\n",
              "         [0.3254902 , 0.20784314, 0.13333334]],\n",
              "\n",
              "        [[0.69411767, 0.5647059 , 0.45490196],\n",
              "         [0.65882355, 0.5058824 , 0.36862746],\n",
              "         [0.7019608 , 0.5568628 , 0.34117648],\n",
              "         ...,\n",
              "         [0.84705883, 0.72156864, 0.54901963],\n",
              "         [0.5921569 , 0.4627451 , 0.32941177],\n",
              "         [0.48235294, 0.36078432, 0.28235295]]]], dtype=float32)"
            ]
          },
          "metadata": {},
          "execution_count": 6
        }
      ]
    },
    {
      "cell_type": "code",
      "source": [
        "# one hot encode outputs\n",
        "y_train = np_utils.to_categorical(y_train)\n",
        "y_test = np_utils.to_categorical(y_test)\n",
        "class_num = y_test.shape[1]"
      ],
      "metadata": {
        "id": "6EwUTeykXMLM"
      },
      "execution_count": 7,
      "outputs": []
    },
    {
      "cell_type": "code",
      "source": [
        "model = Sequential()"
      ],
      "metadata": {
        "id": "klDWAa-qXPau"
      },
      "execution_count": 30,
      "outputs": []
    },
    {
      "cell_type": "code",
      "source": [
        "# сверточный слой (функ. активации - relu)\n",
        "model.add(Conv2D(32, (3, 3), input_shape=X_train.shape[1:], padding='same'))\n",
        "model.add(Activation('relu'))"
      ],
      "metadata": {
        "id": "4Dw_1-3CXRdF"
      },
      "execution_count": 31,
      "outputs": []
    },
    {
      "cell_type": "code",
      "source": [
        "# исключающий слой (20%)\n",
        "model.add(Dropout(0.2))"
      ],
      "metadata": {
        "id": "Yg7l0xWoXUlV"
      },
      "execution_count": 32,
      "outputs": []
    },
    {
      "cell_type": "code",
      "source": [
        "# нормализация входных данных\n",
        "model.add(BatchNormalization())"
      ],
      "metadata": {
        "id": "u6i2M9bgXWwl"
      },
      "execution_count": 33,
      "outputs": []
    },
    {
      "cell_type": "code",
      "source": [
        "# еще один сверточный слой с увеличинным размером фильтра\n",
        "model.add(Conv2D(64, (3, 3), padding='same'))\n",
        "model.add(Activation('relu'))"
      ],
      "metadata": {
        "id": "c46SZovEXYlY"
      },
      "execution_count": 34,
      "outputs": []
    },
    {
      "cell_type": "code",
      "source": [
        "# объединяющий слой\n",
        "model.add(MaxPooling2D(pool_size=(2, 2)))\n",
        "model.add(Dropout(0.2))\n",
        "model.add(BatchNormalization())"
      ],
      "metadata": {
        "id": "Y60NjEBPXavu"
      },
      "execution_count": 35,
      "outputs": []
    },
    {
      "cell_type": "code",
      "source": [
        "# повторим слои\n",
        "\n",
        "model.add(Conv2D(64, (3, 3), padding='same'))\n",
        "model.add(Activation('relu'))\n",
        "model.add(MaxPooling2D(pool_size=(2, 2)))\n",
        "model.add(Dropout(0.2))\n",
        "model.add(BatchNormalization())\n",
        "model.add(Conv2D(128, (3, 3), padding='same'))\n",
        "model.add(Activation('relu'))\n",
        "model.add(Dropout(0.2))\n",
        "model.add(BatchNormalization())"
      ],
      "metadata": {
        "id": "EAO6NwOcXdfv"
      },
      "execution_count": 36,
      "outputs": []
    },
    {
      "cell_type": "code",
      "source": [
        "model.add(Flatten())\n",
        "model.add(Dropout(0.2))"
      ],
      "metadata": {
        "id": "tMDz31V_Xvlt"
      },
      "execution_count": 37,
      "outputs": []
    },
    {
      "cell_type": "code",
      "source": [
        "model.add(Dense(256, kernel_constraint=maxnorm(3)))\n",
        "model.add(Activation('relu'))\n",
        "model.add(Dropout(0.2))\n",
        "model.add(BatchNormalization())\n",
        "model.add(Dense(128, kernel_constraint=maxnorm(3)))\n",
        "model.add(Activation('relu'))\n",
        "model.add(Dropout(0.2))\n",
        "model.add(BatchNormalization())"
      ],
      "metadata": {
        "id": "hAeeetjTXyJe"
      },
      "execution_count": 38,
      "outputs": []
    },
    {
      "cell_type": "code",
      "source": [
        "# выбирает нейрон с наиб. значением\n",
        "model.add(Dense(class_num))\n",
        "model.add(Activation('softmax'))"
      ],
      "metadata": {
        "id": "rN3KDDVXX1Rb"
      },
      "execution_count": 39,
      "outputs": []
    },
    {
      "cell_type": "code",
      "source": [
        "# оптимизатор\n",
        "epochs = 25\n",
        "optimizer = 'adam'"
      ],
      "metadata": {
        "id": "q_lIGg3xX3Lr"
      },
      "execution_count": 40,
      "outputs": []
    },
    {
      "cell_type": "code",
      "source": [
        "# компиляция модели\n",
        "model.compile(loss='categorical_crossentropy', optimizer=optimizer, metrics=['accuracy'])"
      ],
      "metadata": {
        "id": "5A00L972X5Fr"
      },
      "execution_count": 41,
      "outputs": []
    },
    {
      "cell_type": "code",
      "source": [
        "# сводка по модели\n",
        "print(model.summary())"
      ],
      "metadata": {
        "colab": {
          "base_uri": "https://localhost:8080/"
        },
        "id": "SZ8_8uJ4X6Qv",
        "outputId": "eafc6b41-a3a4-4e8a-f02f-82e2dc249605"
      },
      "execution_count": 42,
      "outputs": [
        {
          "output_type": "stream",
          "name": "stdout",
          "text": [
            "Model: \"sequential_1\"\n",
            "_________________________________________________________________\n",
            " Layer (type)                Output Shape              Param #   \n",
            "=================================================================\n",
            " conv2d_6 (Conv2D)           (None, 32, 32, 32)        896       \n",
            "                                                                 \n",
            " activation_7 (Activation)   (None, 32, 32, 32)        0         \n",
            "                                                                 \n",
            " dropout_7 (Dropout)         (None, 32, 32, 32)        0         \n",
            "                                                                 \n",
            " batch_normalization_6 (Batc  (None, 32, 32, 32)       128       \n",
            " hNormalization)                                                 \n",
            "                                                                 \n",
            " conv2d_7 (Conv2D)           (None, 32, 32, 64)        18496     \n",
            "                                                                 \n",
            " activation_8 (Activation)   (None, 32, 32, 64)        0         \n",
            "                                                                 \n",
            " max_pooling2d_3 (MaxPooling  (None, 16, 16, 64)       0         \n",
            " 2D)                                                             \n",
            "                                                                 \n",
            " dropout_8 (Dropout)         (None, 16, 16, 64)        0         \n",
            "                                                                 \n",
            " batch_normalization_7 (Batc  (None, 16, 16, 64)       256       \n",
            " hNormalization)                                                 \n",
            "                                                                 \n",
            " conv2d_8 (Conv2D)           (None, 16, 16, 64)        36928     \n",
            "                                                                 \n",
            " activation_9 (Activation)   (None, 16, 16, 64)        0         \n",
            "                                                                 \n",
            " max_pooling2d_4 (MaxPooling  (None, 8, 8, 64)         0         \n",
            " 2D)                                                             \n",
            "                                                                 \n",
            " dropout_9 (Dropout)         (None, 8, 8, 64)          0         \n",
            "                                                                 \n",
            " batch_normalization_8 (Batc  (None, 8, 8, 64)         256       \n",
            " hNormalization)                                                 \n",
            "                                                                 \n",
            " conv2d_9 (Conv2D)           (None, 8, 8, 128)         73856     \n",
            "                                                                 \n",
            " activation_10 (Activation)  (None, 8, 8, 128)         0         \n",
            "                                                                 \n",
            " dropout_10 (Dropout)        (None, 8, 8, 128)         0         \n",
            "                                                                 \n",
            " batch_normalization_9 (Batc  (None, 8, 8, 128)        512       \n",
            " hNormalization)                                                 \n",
            "                                                                 \n",
            " flatten_1 (Flatten)         (None, 8192)              0         \n",
            "                                                                 \n",
            " dropout_11 (Dropout)        (None, 8192)              0         \n",
            "                                                                 \n",
            " dense_3 (Dense)             (None, 256)               2097408   \n",
            "                                                                 \n",
            " activation_11 (Activation)  (None, 256)               0         \n",
            "                                                                 \n",
            " dropout_12 (Dropout)        (None, 256)               0         \n",
            "                                                                 \n",
            " batch_normalization_10 (Bat  (None, 256)              1024      \n",
            " chNormalization)                                                \n",
            "                                                                 \n",
            " dense_4 (Dense)             (None, 128)               32896     \n",
            "                                                                 \n",
            " activation_12 (Activation)  (None, 128)               0         \n",
            "                                                                 \n",
            " dropout_13 (Dropout)        (None, 128)               0         \n",
            "                                                                 \n",
            " batch_normalization_11 (Bat  (None, 128)              512       \n",
            " chNormalization)                                                \n",
            "                                                                 \n",
            " dense_5 (Dense)             (None, 10)                1290      \n",
            "                                                                 \n",
            " activation_13 (Activation)  (None, 10)                0         \n",
            "                                                                 \n",
            "=================================================================\n",
            "Total params: 2,264,458\n",
            "Trainable params: 2,263,114\n",
            "Non-trainable params: 1,344\n",
            "_________________________________________________________________\n",
            "None\n"
          ]
        }
      ]
    },
    {
      "cell_type": "markdown",
      "source": [
        "Приступим к обучению модели"
      ],
      "metadata": {
        "id": "EtJ-hwpOX_mU"
      }
    },
    {
      "cell_type": "code",
      "source": [
        "numpy.random.seed(seed)\n",
        "model.fit(X_train, y_train, validation_data=(X_test, y_test), epochs=1, batch_size=1)"
      ],
      "metadata": {
        "colab": {
          "base_uri": "https://localhost:8080/"
        },
        "id": "0zU8fUVAX8Ju",
        "outputId": "bf378114-dbc6-423d-babe-c5edc9c24a48"
      },
      "execution_count": null,
      "outputs": [
        {
          "output_type": "stream",
          "name": "stdout",
          "text": [
            "50000/50000 [==============================] - 312s 6ms/step - loss: 2.3051 - accuracy: 0.0987 - val_loss: 235.0692 - val_accuracy: 0.0764\n"
          ]
        },
        {
          "output_type": "execute_result",
          "data": {
            "text/plain": [
              "<keras.callbacks.History at 0x7fc5325eab20>"
            ]
          },
          "metadata": {},
          "execution_count": 21
        }
      ]
    },
    {
      "cell_type": "code",
      "source": [
        "# Model evaluation\n",
        "scores = model.evaluate(X_test, y_test, verbose=0)\n",
        "print(\"Accuracy: %.2f%%\" % (scores[1]*100))"
      ],
      "metadata": {
        "colab": {
          "base_uri": "https://localhost:8080/"
        },
        "id": "kG3c2eHycRwY",
        "outputId": "5044350b-d545-44b3-ac4b-f9e0c3a22d63"
      },
      "execution_count": null,
      "outputs": [
        {
          "output_type": "stream",
          "name": "stdout",
          "text": [
            "Accuracy: 7.64%\n"
          ]
        }
      ]
    },
    {
      "cell_type": "markdown",
      "source": [
        "Возьмем batch_size = 10"
      ],
      "metadata": {
        "id": "VF-3E6bRc8RE"
      }
    },
    {
      "cell_type": "code",
      "source": [
        "model.fit(X_train, y_train, validation_data=(X_test, y_test), epochs=5, batch_size=10)"
      ],
      "metadata": {
        "colab": {
          "base_uri": "https://localhost:8080/"
        },
        "id": "kZxMYpa3c_OK",
        "outputId": "dd148288-98fd-4c22-f9f9-18535132f10a"
      },
      "execution_count": null,
      "outputs": [
        {
          "output_type": "stream",
          "name": "stdout",
          "text": [
            "Epoch 1/5\n",
            "5000/5000 [==============================] - 37s 7ms/step - loss: 0.9197 - accuracy: 0.6883 - val_loss: 0.6725 - val_accuracy: 0.7672\n",
            "Epoch 2/5\n",
            "5000/5000 [==============================] - 38s 8ms/step - loss: 0.8745 - accuracy: 0.7026 - val_loss: 0.6993 - val_accuracy: 0.7609\n",
            "Epoch 3/5\n",
            "5000/5000 [==============================] - 38s 8ms/step - loss: 0.8710 - accuracy: 0.7048 - val_loss: 0.6469 - val_accuracy: 0.7789\n",
            "Epoch 4/5\n",
            "5000/5000 [==============================] - 37s 7ms/step - loss: 0.8644 - accuracy: 0.7092 - val_loss: 0.7854 - val_accuracy: 0.7250\n",
            "Epoch 5/5\n",
            "5000/5000 [==============================] - 36s 7ms/step - loss: 0.8701 - accuracy: 0.7051 - val_loss: 0.6515 - val_accuracy: 0.7738\n"
          ]
        },
        {
          "output_type": "execute_result",
          "data": {
            "text/plain": [
              "<keras.callbacks.History at 0x7fc51a43c2b0>"
            ]
          },
          "metadata": {},
          "execution_count": 40
        }
      ]
    },
    {
      "cell_type": "code",
      "source": [
        "scores = model.evaluate(X_test, y_test, verbose=0)\n",
        "print(\"Accuracy: %.2f%%\" % (scores[1]*100))\n",
        "acc1 = scores[1]*100"
      ],
      "metadata": {
        "colab": {
          "base_uri": "https://localhost:8080/"
        },
        "id": "5PgFYC_JdByI",
        "outputId": "e4018718-a658-4ba1-c4f7-6c006361f23d"
      },
      "execution_count": null,
      "outputs": [
        {
          "output_type": "stream",
          "name": "stdout",
          "text": [
            "Accuracy: 77.38%\n"
          ]
        }
      ]
    },
    {
      "cell_type": "markdown",
      "source": [
        "Попробуем взять значение 30"
      ],
      "metadata": {
        "id": "Z7rIKL9ee7vQ"
      }
    },
    {
      "cell_type": "code",
      "source": [
        "model.fit(X_train, y_train, validation_data=(X_test, y_test), epochs=5, batch_size=30)"
      ],
      "metadata": {
        "colab": {
          "base_uri": "https://localhost:8080/"
        },
        "id": "HEyE58W7e4mg",
        "outputId": "37b8810e-cd89-4c78-ae4e-4da01ce80601"
      },
      "execution_count": null,
      "outputs": [
        {
          "output_type": "stream",
          "name": "stdout",
          "text": [
            "Epoch 1/5\n",
            "1667/1667 [==============================] - 14s 8ms/step - loss: 0.6293 - accuracy: 0.7850 - val_loss: 0.5585 - val_accuracy: 0.8112\n",
            "Epoch 2/5\n",
            "1667/1667 [==============================] - 14s 8ms/step - loss: 0.5942 - accuracy: 0.7948 - val_loss: 0.5359 - val_accuracy: 0.8159\n",
            "Epoch 3/5\n",
            "1667/1667 [==============================] - 14s 8ms/step - loss: 0.5907 - accuracy: 0.7968 - val_loss: 0.5591 - val_accuracy: 0.8128\n",
            "Epoch 4/5\n",
            "1667/1667 [==============================] - 13s 8ms/step - loss: 0.5834 - accuracy: 0.7985 - val_loss: 0.5263 - val_accuracy: 0.8211\n",
            "Epoch 5/5\n",
            "1667/1667 [==============================] - 13s 8ms/step - loss: 0.5722 - accuracy: 0.7998 - val_loss: 0.5392 - val_accuracy: 0.8133\n"
          ]
        },
        {
          "output_type": "execute_result",
          "data": {
            "text/plain": [
              "<keras.callbacks.History at 0x7fc51a537370>"
            ]
          },
          "metadata": {},
          "execution_count": 42
        }
      ]
    },
    {
      "cell_type": "code",
      "source": [
        "scores = model.evaluate(X_test, y_test, verbose=0)\n",
        "print(\"Accuracy: %.2f%%\" % (scores[1]*100))\n",
        "acc2 = scores[1]*100"
      ],
      "metadata": {
        "colab": {
          "base_uri": "https://localhost:8080/"
        },
        "id": "YAgpJB2-fBKB",
        "outputId": "5829eec8-b363-4d6f-f649-7b4fa9e9d00b"
      },
      "execution_count": null,
      "outputs": [
        {
          "output_type": "stream",
          "name": "stdout",
          "text": [
            "Accuracy: 81.33%\n"
          ]
        }
      ]
    },
    {
      "cell_type": "markdown",
      "source": [
        "Возьмем значение 64"
      ],
      "metadata": {
        "id": "6vvSMzfPgeN-"
      }
    },
    {
      "cell_type": "code",
      "source": [
        "model.fit(X_train, y_train, validation_data=(X_test, y_test), epochs=5, batch_size=64)"
      ],
      "metadata": {
        "colab": {
          "base_uri": "https://localhost:8080/"
        },
        "id": "QBTgk08efWcD",
        "outputId": "8e8476d5-8fc5-4c28-af06-1bf51b26d232"
      },
      "execution_count": null,
      "outputs": [
        {
          "output_type": "stream",
          "name": "stdout",
          "text": [
            "Epoch 1/5\n",
            "782/782 [==============================] - 10s 12ms/step - loss: 0.4690 - accuracy: 0.8364 - val_loss: 0.4920 - val_accuracy: 0.8327\n",
            "Epoch 2/5\n",
            "782/782 [==============================] - 9s 12ms/step - loss: 0.4379 - accuracy: 0.8469 - val_loss: 0.4994 - val_accuracy: 0.8317\n",
            "Epoch 3/5\n",
            "782/782 [==============================] - 9s 12ms/step - loss: 0.4308 - accuracy: 0.8485 - val_loss: 0.5016 - val_accuracy: 0.8279\n",
            "Epoch 4/5\n",
            "782/782 [==============================] - 9s 12ms/step - loss: 0.4351 - accuracy: 0.8460 - val_loss: 0.5100 - val_accuracy: 0.8260\n",
            "Epoch 5/5\n",
            "782/782 [==============================] - 9s 12ms/step - loss: 0.4296 - accuracy: 0.8485 - val_loss: 0.5021 - val_accuracy: 0.8264\n"
          ]
        },
        {
          "output_type": "execute_result",
          "data": {
            "text/plain": [
              "<keras.callbacks.History at 0x7fc51a4ad100>"
            ]
          },
          "metadata": {},
          "execution_count": 45
        }
      ]
    },
    {
      "cell_type": "code",
      "source": [
        "scores = model.evaluate(X_test, y_test, verbose=0)\n",
        "print(\"Accuracy: %.2f%%\" % (scores[1]*100))\n",
        "acc3 = scores[1]*100"
      ],
      "metadata": {
        "colab": {
          "base_uri": "https://localhost:8080/"
        },
        "id": "ThUokKGfgFqq",
        "outputId": "a749d1fb-97e5-49d6-a5be-1105b44fd15c"
      },
      "execution_count": null,
      "outputs": [
        {
          "output_type": "stream",
          "name": "stdout",
          "text": [
            "Accuracy: 82.64%\n"
          ]
        }
      ]
    },
    {
      "cell_type": "markdown",
      "source": [
        "Сравним получившиеся результаты"
      ],
      "metadata": {
        "id": "mnwq2L_5ijf8"
      }
    },
    {
      "cell_type": "code",
      "source": [
        "import matplotlib.pyplot as plt"
      ],
      "metadata": {
        "id": "ksnRSPr9im8l"
      },
      "execution_count": null,
      "outputs": []
    },
    {
      "cell_type": "code",
      "source": [
        "acc = [acc1, acc2, acc3]\n",
        "num = [10, 30, 64]"
      ],
      "metadata": {
        "id": "veNmT-zWi2k1"
      },
      "execution_count": null,
      "outputs": []
    },
    {
      "cell_type": "code",
      "source": [
        "plt.plot(acc, num)\n",
        "plt.show()"
      ],
      "metadata": {
        "colab": {
          "base_uri": "https://localhost:8080/",
          "height": 265
        },
        "id": "cGGbbxpNi-74",
        "outputId": "576fa025-21d7-48b1-cf9e-58f3fbf25e88"
      },
      "execution_count": null,
      "outputs": [
        {
          "output_type": "display_data",
          "data": {
            "text/plain": [
              "<Figure size 432x288 with 1 Axes>"
            ],
            "image/png": "[encoded data removed]"
          },
          "metadata": {
            "needs_background": "light"
          }
        }
      ]
    },
    {
      "cell_type": "markdown",
      "source": [
        "Достигнем точности в 92%"
      ],
      "metadata": {
        "id": "SVKrsWes7XgG"
      }
    },
    {
      "cell_type": "code",
      "source": [
        "model.fit(X_train, y_train, validation_data=(X_test, y_test), epochs=10, batch_size=64)"
      ],
      "metadata": {
        "colab": {
          "base_uri": "https://localhost:8080/"
        },
        "id": "-5ODLXzT7bcc",
        "outputId": "f363e66e-72e3-46aa-e190-d0dd0b8efb67"
      },
      "execution_count": 23,
      "outputs": [
        {
          "output_type": "stream",
          "name": "stdout",
          "text": [
            "Epoch 1/10\n",
            "782/782 [==============================] - 9s 12ms/step - loss: 0.5459 - accuracy: 0.8101 - val_loss: 0.5791 - val_accuracy: 0.8002\n",
            "Epoch 2/10\n",
            "782/782 [==============================] - 9s 12ms/step - loss: 0.5273 - accuracy: 0.8165 - val_loss: 0.5950 - val_accuracy: 0.7999\n",
            "Epoch 3/10\n",
            "782/782 [==============================] - 9s 12ms/step - loss: 0.5142 - accuracy: 0.8196 - val_loss: 0.5890 - val_accuracy: 0.7965\n",
            "Epoch 4/10\n",
            "782/782 [==============================] - 9s 11ms/step - loss: 0.5004 - accuracy: 0.8231 - val_loss: 0.5242 - val_accuracy: 0.8187\n",
            "Epoch 5/10\n",
            "782/782 [==============================] - 9s 11ms/step - loss: 0.4909 - accuracy: 0.8293 - val_loss: 0.5738 - val_accuracy: 0.8042\n",
            "Epoch 6/10\n",
            "782/782 [==============================] - 9s 11ms/step - loss: 0.4738 - accuracy: 0.8356 - val_loss: 0.5421 - val_accuracy: 0.8159\n",
            "Epoch 7/10\n",
            "782/782 [==============================] - 9s 12ms/step - loss: 0.4695 - accuracy: 0.8363 - val_loss: 0.5462 - val_accuracy: 0.8079\n",
            "Epoch 8/10\n",
            "782/782 [==============================] - 9s 11ms/step - loss: 0.4567 - accuracy: 0.8402 - val_loss: 0.5242 - val_accuracy: 0.8174\n",
            "Epoch 9/10\n",
            "782/782 [==============================] - 9s 11ms/step - loss: 0.4513 - accuracy: 0.8408 - val_loss: 0.5150 - val_accuracy: 0.8247\n",
            "Epoch 10/10\n",
            "782/782 [==============================] - 9s 11ms/step - loss: 0.4480 - accuracy: 0.8434 - val_loss: 0.5769 - val_accuracy: 0.8061\n"
          ]
        },
        {
          "output_type": "execute_result",
          "data": {
            "text/plain": [
              "<keras.callbacks.History at 0x7f08ba6b7a30>"
            ]
          },
          "metadata": {},
          "execution_count": 23
        }
      ]
    },
    {
      "cell_type": "code",
      "source": [
        "scores = model.evaluate(X_test, y_test, verbose=0)\n",
        "print(\"Accuracy: %.2f%%\" % (scores[1]*100))\n",
        "acc4 = scores[1]*100"
      ],
      "metadata": {
        "colab": {
          "base_uri": "https://localhost:8080/"
        },
        "id": "nb1JS4XW8TnZ",
        "outputId": "1c8ad6b5-bd48-45af-cb0b-f9a38c0c6c08"
      },
      "execution_count": 24,
      "outputs": [
        {
          "output_type": "stream",
          "name": "stdout",
          "text": [
            "Accuracy: 80.61%\n"
          ]
        }
      ]
    },
    {
      "cell_type": "markdown",
      "source": [
        "Попробуем увеличить количество эпох и бэтчи"
      ],
      "metadata": {
        "id": "5M_sn44a9sZc"
      }
    },
    {
      "cell_type": "code",
      "source": [
        "model.fit(X_train, y_train, validation_data=(X_test, y_test), epochs=15, batch_size=80)"
      ],
      "metadata": {
        "colab": {
          "base_uri": "https://localhost:8080/"
        },
        "id": "InWadANK9sCK",
        "outputId": "01aac092-0027-4242-f0af-5307ac904412"
      },
      "execution_count": 52,
      "outputs": [
        {
          "output_type": "stream",
          "name": "stdout",
          "text": [
            "Epoch 1/15\n",
            "625/625 [==============================] - 9s 14ms/step - loss: 0.4065 - accuracy: 0.8567 - val_loss: 0.5444 - val_accuracy: 0.8164\n",
            "Epoch 2/15\n",
            "625/625 [==============================] - 8s 13ms/step - loss: 0.4022 - accuracy: 0.8590 - val_loss: 0.5147 - val_accuracy: 0.8250\n",
            "Epoch 3/15\n",
            "625/625 [==============================] - 8s 14ms/step - loss: 0.3965 - accuracy: 0.8607 - val_loss: 0.5182 - val_accuracy: 0.8236\n",
            "Epoch 4/15\n",
            "625/625 [==============================] - 8s 13ms/step - loss: 0.3850 - accuracy: 0.8645 - val_loss: 0.4968 - val_accuracy: 0.8310\n",
            "Epoch 5/15\n",
            "625/625 [==============================] - 8s 13ms/step - loss: 0.3769 - accuracy: 0.8670 - val_loss: 0.5222 - val_accuracy: 0.8249\n",
            "Epoch 6/15\n",
            "625/625 [==============================] - 8s 14ms/step - loss: 0.3748 - accuracy: 0.8692 - val_loss: 0.5093 - val_accuracy: 0.8306\n",
            "Epoch 7/15\n",
            "625/625 [==============================] - 8s 13ms/step - loss: 0.3695 - accuracy: 0.8730 - val_loss: 0.5428 - val_accuracy: 0.8175\n",
            "Epoch 8/15\n",
            "625/625 [==============================] - 8s 13ms/step - loss: 0.3631 - accuracy: 0.8732 - val_loss: 0.5092 - val_accuracy: 0.8297\n",
            "Epoch 9/15\n",
            "625/625 [==============================] - 9s 14ms/step - loss: 0.3633 - accuracy: 0.8728 - val_loss: 0.5189 - val_accuracy: 0.8263\n",
            "Epoch 10/15\n",
            "625/625 [==============================] - 8s 13ms/step - loss: 0.3594 - accuracy: 0.8739 - val_loss: 0.5056 - val_accuracy: 0.8323\n",
            "Epoch 11/15\n",
            "625/625 [==============================] - 8s 13ms/step - loss: 0.3566 - accuracy: 0.8752 - val_loss: 0.5450 - val_accuracy: 0.8187\n",
            "Epoch 12/15\n",
            "625/625 [==============================] - 8s 13ms/step - loss: 0.3538 - accuracy: 0.8757 - val_loss: 0.5125 - val_accuracy: 0.8282\n",
            "Epoch 13/15\n",
            "625/625 [==============================] - 8s 13ms/step - loss: 0.3512 - accuracy: 0.8779 - val_loss: 0.5063 - val_accuracy: 0.8364\n",
            "Epoch 14/15\n",
            "625/625 [==============================] - 8s 14ms/step - loss: 0.3477 - accuracy: 0.8769 - val_loss: 0.5672 - val_accuracy: 0.8121\n",
            "Epoch 15/15\n",
            "625/625 [==============================] - 8s 13ms/step - loss: 0.3417 - accuracy: 0.8799 - val_loss: 0.5268 - val_accuracy: 0.8284\n"
          ]
        },
        {
          "output_type": "execute_result",
          "data": {
            "text/plain": [
              "<keras.callbacks.History at 0x7f08bb9fce50>"
            ]
          },
          "metadata": {},
          "execution_count": 52
        }
      ]
    },
    {
      "cell_type": "code",
      "source": [
        "scores = model.evaluate(X_test, y_test, verbose=0)\n",
        "print(\"Accuracy: %.2f%%\" % (scores[1]*100))\n",
        "acc4 = scores[1]*100"
      ],
      "metadata": {
        "colab": {
          "base_uri": "https://localhost:8080/"
        },
        "id": "hfAG9JtO93aB",
        "outputId": "3289015b-766e-4ac9-d4da-ab08f68d3de3"
      },
      "execution_count": 53,
      "outputs": [
        {
          "output_type": "stream",
          "name": "stdout",
          "text": [
            "Accuracy: 82.84%\n"
          ]
        }
      ]
    },
    {
      "cell_type": "markdown",
      "source": [
        "Возможно, при последующем увеличении кол-ва эпох и (или) размеров бэтчей, мы сможем получить точность 92%, но скорее всего понадобиться увеличить количество нейронов."
      ],
      "metadata": {
        "id": "DVkHouO6-cu5"
      }
    },
    {
      "cell_type": "code",
      "source": [
        "model.fit(X_train, y_train, validation_data=(X_test, y_test), epochs=20, batch_size=80)"
      ],
      "metadata": {
        "colab": {
          "base_uri": "https://localhost:8080/"
        },
        "id": "Bstof3I0-vsO",
        "outputId": "2ad3315f-d760-426b-c8af-ee170818b68a"
      },
      "execution_count": 54,
      "outputs": [
        {
          "output_type": "stream",
          "name": "stdout",
          "text": [
            "Epoch 1/20\n",
            "625/625 [==============================] - 9s 14ms/step - loss: 0.3476 - accuracy: 0.8796 - val_loss: 0.5086 - val_accuracy: 0.8387\n",
            "Epoch 2/20\n",
            "625/625 [==============================] - 8s 13ms/step - loss: 0.3453 - accuracy: 0.8801 - val_loss: 0.5045 - val_accuracy: 0.8311\n",
            "Epoch 3/20\n",
            "625/625 [==============================] - 8s 13ms/step - loss: 0.3393 - accuracy: 0.8807 - val_loss: 0.5309 - val_accuracy: 0.8264\n",
            "Epoch 4/20\n",
            "625/625 [==============================] - 8s 14ms/step - loss: 0.3372 - accuracy: 0.8818 - val_loss: 0.5000 - val_accuracy: 0.8337\n",
            "Epoch 5/20\n",
            "625/625 [==============================] - 8s 13ms/step - loss: 0.3354 - accuracy: 0.8838 - val_loss: 0.4997 - val_accuracy: 0.8378\n",
            "Epoch 6/20\n",
            "625/625 [==============================] - 8s 13ms/step - loss: 0.3253 - accuracy: 0.8848 - val_loss: 0.4937 - val_accuracy: 0.8376\n",
            "Epoch 7/20\n",
            "625/625 [==============================] - 8s 13ms/step - loss: 0.3254 - accuracy: 0.8858 - val_loss: 0.4991 - val_accuracy: 0.8352\n",
            "Epoch 8/20\n",
            "625/625 [==============================] - 8s 13ms/step - loss: 0.3293 - accuracy: 0.8840 - val_loss: 0.5396 - val_accuracy: 0.8234\n",
            "Epoch 9/20\n",
            "625/625 [==============================] - 8s 13ms/step - loss: 0.3262 - accuracy: 0.8859 - val_loss: 0.5300 - val_accuracy: 0.8280\n",
            "Epoch 10/20\n",
            "625/625 [==============================] - 8s 13ms/step - loss: 0.3210 - accuracy: 0.8871 - val_loss: 0.5000 - val_accuracy: 0.8367\n",
            "Epoch 11/20\n",
            "625/625 [==============================] - 8s 13ms/step - loss: 0.3215 - accuracy: 0.8867 - val_loss: 0.5523 - val_accuracy: 0.8226\n",
            "Epoch 12/20\n",
            "625/625 [==============================] - 8s 13ms/step - loss: 0.3218 - accuracy: 0.8872 - val_loss: 0.5174 - val_accuracy: 0.8334\n",
            "Epoch 13/20\n",
            "625/625 [==============================] - 8s 13ms/step - loss: 0.3196 - accuracy: 0.8883 - val_loss: 0.5136 - val_accuracy: 0.8348\n",
            "Epoch 14/20\n",
            "625/625 [==============================] - 8s 13ms/step - loss: 0.3165 - accuracy: 0.8889 - val_loss: 0.4758 - val_accuracy: 0.8462\n",
            "Epoch 15/20\n",
            "625/625 [==============================] - 8s 13ms/step - loss: 0.3133 - accuracy: 0.8901 - val_loss: 0.4820 - val_accuracy: 0.8459\n",
            "Epoch 16/20\n",
            "625/625 [==============================] - 8s 13ms/step - loss: 0.3091 - accuracy: 0.8902 - val_loss: 0.5022 - val_accuracy: 0.8412\n",
            "Epoch 17/20\n",
            "625/625 [==============================] - 8s 13ms/step - loss: 0.3182 - accuracy: 0.8898 - val_loss: 0.4978 - val_accuracy: 0.8383\n",
            "Epoch 18/20\n",
            "625/625 [==============================] - 8s 13ms/step - loss: 0.3132 - accuracy: 0.8902 - val_loss: 0.5165 - val_accuracy: 0.8316\n",
            "Epoch 19/20\n",
            "625/625 [==============================] - 8s 13ms/step - loss: 0.3096 - accuracy: 0.8903 - val_loss: 0.4896 - val_accuracy: 0.8378\n",
            "Epoch 20/20\n",
            "625/625 [==============================] - 8s 13ms/step - loss: 0.3078 - accuracy: 0.8935 - val_loss: 0.5519 - val_accuracy: 0.8246\n"
          ]
        },
        {
          "output_type": "execute_result",
          "data": {
            "text/plain": [
              "<keras.callbacks.History at 0x7f08bb8faf40>"
            ]
          },
          "metadata": {},
          "execution_count": 54
        }
      ]
    },
    {
      "cell_type": "code",
      "source": [
        "scores = model.evaluate(X_test, y_test, verbose=0)\n",
        "print(\"Accuracy: %.2f%%\" % (scores[1]*100))\n",
        "acc6 = scores[1]*100"
      ],
      "metadata": {
        "colab": {
          "base_uri": "https://localhost:8080/"
        },
        "id": "R_hzG16gAnkE",
        "outputId": "06966824-447b-4f4f-d8eb-3c8433106144"
      },
      "execution_count": 51,
      "outputs": [
        {
          "output_type": "stream",
          "name": "stdout",
          "text": [
            "Accuracy: 82.19%\n"
          ]
        }
      ]
    },
    {
      "cell_type": "code",
      "source": [
        "import matplotlib.pyplot as plt\n",
        "acc123 = [acc4, acc6]\n",
        "amount = [15, 20]\n",
        "plt.plot(acc123, amount)\n",
        "plt.show()"
      ],
      "metadata": {
        "colab": {
          "base_uri": "https://localhost:8080/",
          "height": 265
        },
        "id": "42Vo32NKCDqe",
        "outputId": "92836fed-93ec-4f48-8729-7216469001f3"
      },
      "execution_count": 57,
      "outputs": [
        {
          "output_type": "display_data",
          "data": {
            "text/plain": [
              "<Figure size 432x288 with 1 Axes>"
            ],
            "image/png": "[encoded data removed]"
          },
          "metadata": {
            "needs_background": "light"
          }
        }
      ]
    }
  ]
}