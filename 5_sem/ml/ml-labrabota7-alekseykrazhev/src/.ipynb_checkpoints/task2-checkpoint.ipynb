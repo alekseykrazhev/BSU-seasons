{
 "cells": [
  {
   "cell_type": "markdown",
   "id": "dbb749d7-9c6d-4fbb-9df2-b761d8348a65",
   "metadata": {},
   "source": [
    "# Задание 2. Вариант 4"
   ]
  },
  {
   "cell_type": "markdown",
   "id": "c4069ea5-1b34-4a23-95a3-0349d45736f6",
   "metadata": {
    "tags": []
   },
   "source": [
    "## Исследование сверточной нейронной сети для классификации полноцветных изображений из БД CIFAR-10"
   ]
  },
  {
   "cell_type": "markdown",
   "id": "818e0418-3924-4be7-b015-01f8d1838d78",
   "metadata": {},
   "source": [
    "### Для БД CIFAR-10 – полноцветных изображений реальных объектов\n",
    "    - создать архитектуру сверточной НС с наименьшим числом нейронов, достаточных для правильной классификации изображений тестовой выборки на уровне не менее 92%. Обучить НС с контролем эффекта переобучения путем использования выборки валидации."
   ]
  },
  {
   "cell_type": "markdown",
   "id": "365e475f-cf16-400d-bdd7-2a6f096d2206",
   "metadata": {},
   "source": [
    "### Вар. 4. Провести анализ качества обучения НС при разных размерах минибатчей. Определить размер мини-батчей для обеспечения быстрого и качественного обучения сети."
   ]
  },
  {
   "cell_type": "code",
   "execution_count": 2,
   "id": "2afe504c-d0c9-402b-8ace-9491f198f03b",
   "metadata": {},
   "outputs": [],
   "source": [
    "import numpy\n",
    "from keras.models import Sequential\n",
    "from keras.layers import Dense, Dropout, Flatten, BatchNormalization, Activation\n",
    "from keras.layers.convolutional import Conv2D, MaxPooling2D\n",
    "from keras.constraints import maxnorm\n",
    "from keras.utils import np_utils\n",
    "\n",
    "import warnings\n",
    "warnings.filterwarnings('ignore')"
   ]
  },
  {
   "cell_type": "code",
   "execution_count": 3,
   "id": "02bb098b-b159-449d-9120-9c5f7e176ccb",
   "metadata": {},
   "outputs": [],
   "source": [
    "# Set random seed for purposes of reproducibility\n",
    "seed = 21"
   ]
  },
  {
   "cell_type": "code",
   "execution_count": 4,
   "id": "65a13d9b-8878-42a7-9d23-06035f39fb79",
   "metadata": {},
   "outputs": [],
   "source": [
    "from keras.datasets import cifar10 # import dataset"
   ]
  },
  {
   "cell_type": "code",
   "execution_count": 6,
   "id": "394f4a6d-4c7a-48c8-88e4-3cb4287fbb3f",
   "metadata": {},
   "outputs": [],
   "source": [
    "# loading in the data\n",
    "(X_train, y_train), (X_test, y_test) = cifar10.load_data()"
   ]
  },
  {
   "cell_type": "code",
   "execution_count": 11,
   "id": "3b7f8b21-7cc4-4fb3-be68-289777156eb4",
   "metadata": {},
   "outputs": [],
   "source": [
    "# normalize the inputs from 0-255 to between 0 and 1 by dividing by 255\n",
    "X_train = X_train.astype('float32')\n",
    "X_test = X_test.astype('float32')\n",
    "X_train = X_train / 255.0\n",
    "X_test = X_test / 255.0"
   ]
  },
  {
   "cell_type": "code",
   "execution_count": 12,
   "id": "d584f4c6-daad-4572-84c4-c00535471a98",
   "metadata": {},
   "outputs": [
    {
     "data": {
      "text/plain": [
       "array([[[[0.23137255, 0.24313726, 0.24705882],\n",
       "         [0.16862746, 0.18039216, 0.1764706 ],\n",
       "         [0.19607843, 0.1882353 , 0.16862746],\n",
       "         ...,\n",
       "         [0.61960787, 0.5176471 , 0.42352942],\n",
       "         [0.59607846, 0.49019608, 0.4       ],\n",
       "         [0.5803922 , 0.4862745 , 0.40392157]],\n",
       "\n",
       "        [[0.0627451 , 0.07843138, 0.07843138],\n",
       "         [0.        , 0.        , 0.        ],\n",
       "         [0.07058824, 0.03137255, 0.        ],\n",
       "         ...,\n",
       "         [0.48235294, 0.34509805, 0.21568628],\n",
       "         [0.46666667, 0.3254902 , 0.19607843],\n",
       "         [0.47843137, 0.34117648, 0.22352941]],\n",
       "\n",
       "        [[0.09803922, 0.09411765, 0.08235294],\n",
       "         [0.0627451 , 0.02745098, 0.        ],\n",
       "         [0.19215687, 0.10588235, 0.03137255],\n",
       "         ...,\n",
       "         [0.4627451 , 0.32941177, 0.19607843],\n",
       "         [0.47058824, 0.32941177, 0.19607843],\n",
       "         [0.42745098, 0.28627452, 0.16470589]],\n",
       "\n",
       "        ...,\n",
       "\n",
       "        [[0.8156863 , 0.6666667 , 0.3764706 ],\n",
       "         [0.7882353 , 0.6       , 0.13333334],\n",
       "         [0.7764706 , 0.6313726 , 0.10196079],\n",
       "         ...,\n",
       "         [0.627451  , 0.52156866, 0.27450982],\n",
       "         [0.21960784, 0.12156863, 0.02745098],\n",
       "         [0.20784314, 0.13333334, 0.07843138]],\n",
       "\n",
       "        [[0.7058824 , 0.54509807, 0.3764706 ],\n",
       "         [0.6784314 , 0.48235294, 0.16470589],\n",
       "         [0.7294118 , 0.5647059 , 0.11764706],\n",
       "         ...,\n",
       "         [0.72156864, 0.5803922 , 0.36862746],\n",
       "         [0.38039216, 0.24313726, 0.13333334],\n",
       "         [0.3254902 , 0.20784314, 0.13333334]],\n",
       "\n",
       "        [[0.69411767, 0.5647059 , 0.45490196],\n",
       "         [0.65882355, 0.5058824 , 0.36862746],\n",
       "         [0.7019608 , 0.5568628 , 0.34117648],\n",
       "         ...,\n",
       "         [0.84705883, 0.72156864, 0.54901963],\n",
       "         [0.5921569 , 0.4627451 , 0.32941177],\n",
       "         [0.48235294, 0.36078432, 0.28235295]]]], dtype=float32)"
      ]
     },
     "execution_count": 12,
     "metadata": {},
     "output_type": "execute_result"
    }
   ],
   "source": [
    "X_train[:1]"
   ]
  },
  {
   "cell_type": "code",
   "execution_count": 14,
   "id": "2bf15e41-5852-4212-a3e2-3cbc3799ed43",
   "metadata": {},
   "outputs": [],
   "source": [
    "# one hot encode outputs\n",
    "y_train = np_utils.to_categorical(y_train)\n",
    "y_test = np_utils.to_categorical(y_test)\n",
    "class_num = y_test.shape[1]"
   ]
  },
  {
   "cell_type": "code",
   "execution_count": 15,
   "id": "551e448a-126e-477d-a4bd-6dc597b3b74e",
   "metadata": {},
   "outputs": [
    {
     "name": "stderr",
     "output_type": "stream",
     "text": [
      "2022-12-20 23:22:21.273507: I tensorflow/compiler/xla/stream_executor/cuda/cuda_gpu_executor.cc:981] successful NUMA node read from SysFS had negative value (-1), but there must be at least one NUMA node, so returning NUMA node zero\n",
      "2022-12-20 23:22:21.293655: I tensorflow/compiler/xla/stream_executor/cuda/cuda_gpu_executor.cc:981] successful NUMA node read from SysFS had negative value (-1), but there must be at least one NUMA node, so returning NUMA node zero\n",
      "2022-12-20 23:22:21.294547: I tensorflow/compiler/xla/stream_executor/cuda/cuda_gpu_executor.cc:981] successful NUMA node read from SysFS had negative value (-1), but there must be at least one NUMA node, so returning NUMA node zero\n",
      "2022-12-20 23:22:21.295644: I tensorflow/core/platform/cpu_feature_guard.cc:193] This TensorFlow binary is optimized with oneAPI Deep Neural Network Library (oneDNN) to use the following CPU instructions in performance-critical operations:  AVX2 FMA\n",
      "To enable them in other operations, rebuild TensorFlow with the appropriate compiler flags.\n",
      "2022-12-20 23:22:21.296104: I tensorflow/compiler/xla/stream_executor/cuda/cuda_gpu_executor.cc:981] successful NUMA node read from SysFS had negative value (-1), but there must be at least one NUMA node, so returning NUMA node zero\n",
      "2022-12-20 23:22:21.297081: I tensorflow/compiler/xla/stream_executor/cuda/cuda_gpu_executor.cc:981] successful NUMA node read from SysFS had negative value (-1), but there must be at least one NUMA node, so returning NUMA node zero\n",
      "2022-12-20 23:22:21.297397: I tensorflow/compiler/xla/stream_executor/cuda/cuda_gpu_executor.cc:981] successful NUMA node read from SysFS had negative value (-1), but there must be at least one NUMA node, so returning NUMA node zero\n",
      "2022-12-20 23:22:21.998945: I tensorflow/compiler/xla/stream_executor/cuda/cuda_gpu_executor.cc:981] successful NUMA node read from SysFS had negative value (-1), but there must be at least one NUMA node, so returning NUMA node zero\n",
      "2022-12-20 23:22:21.999754: I tensorflow/compiler/xla/stream_executor/cuda/cuda_gpu_executor.cc:981] successful NUMA node read from SysFS had negative value (-1), but there must be at least one NUMA node, so returning NUMA node zero\n",
      "2022-12-20 23:22:22.000573: I tensorflow/compiler/xla/stream_executor/cuda/cuda_gpu_executor.cc:981] successful NUMA node read from SysFS had negative value (-1), but there must be at least one NUMA node, so returning NUMA node zero\n",
      "2022-12-20 23:22:22.001019: I tensorflow/core/common_runtime/gpu/gpu_device.cc:1613] Created device /job:localhost/replica:0/task:0/device:GPU:0 with 43 MB memory:  -> device: 0, name: NVIDIA GeForce GTX 960M, pci bus id: 0000:01:00.0, compute capability: 5.0\n"
     ]
    }
   ],
   "source": [
    "model = Sequential()"
   ]
  },
  {
   "cell_type": "code",
   "execution_count": 20,
   "id": "4b0f3d9e-08ec-4940-b3ee-e24245960b06",
   "metadata": {},
   "outputs": [],
   "source": [
    "# сверточный слой (функ. активации - relu)\n",
    "model.add(Conv2D(32, (3, 3), input_shape=(3, 32, 32), activation='relu', padding='same'))"
   ]
  },
  {
   "cell_type": "code",
   "execution_count": 21,
   "id": "3c8f819d-ef76-4f48-a9c5-7ffb3f9782b0",
   "metadata": {},
   "outputs": [],
   "source": [
    "# исключающий слой (20%)\n",
    "model.add(Dropout(0.2))"
   ]
  },
  {
   "cell_type": "code",
   "execution_count": 22,
   "id": "083dc853-b696-4262-9bbb-0afe01e3637b",
   "metadata": {},
   "outputs": [],
   "source": [
    "# нормализация входных данных\n",
    "model.add(BatchNormalization())"
   ]
  },
  {
   "cell_type": "code",
   "execution_count": 23,
   "id": "3b1982ca-d456-495e-a7b1-28af222cff31",
   "metadata": {},
   "outputs": [],
   "source": [
    "# еще один сверточный слой с увеличинным размером фильтра\n",
    "model.add(Conv2D(64, (3, 3), padding='same'))\n",
    "model.add(Activation('relu'))"
   ]
  },
  {
   "cell_type": "code",
   "execution_count": 24,
   "id": "54a6b9ec-21dc-462f-a2a4-ca8652fa833d",
   "metadata": {},
   "outputs": [],
   "source": [
    "# объединяющий слой\n",
    "model.add(MaxPooling2D(pool_size=(2, 2)))\n",
    "model.add(Dropout(0.2))\n",
    "model.add(BatchNormalization())"
   ]
  },
  {
   "cell_type": "code",
   "execution_count": 25,
   "id": "6407cb4c-a19d-484b-8d35-05d9c02aa9d1",
   "metadata": {},
   "outputs": [],
   "source": [
    "# повторим слои\n",
    "model.add(Conv2D(64, (3, 3), padding='same'))\n",
    "model.add(Activation('relu'))\n",
    "model.add(MaxPooling2D(pool_size=(2, 2)))\n",
    "model.add(Dropout(0.2))\n",
    "model.add(BatchNormalization())\n",
    "model.add(Conv2D(128, (3, 3), padding='same'))\n",
    "model.add(Activation('relu'))\n",
    "model.add(Dropout(0.2))\n",
    "model.add(BatchNormalization())"
   ]
  },
  {
   "cell_type": "code",
   "execution_count": 26,
   "id": "dc9f354a-ebff-44f6-bf54-f39b9a7b64e0",
   "metadata": {},
   "outputs": [],
   "source": [
    "# сжатие данных\n",
    "model.add(Flatten())\n",
    "model.add(Dropout(0.2))"
   ]
  },
  {
   "cell_type": "code",
   "execution_count": 27,
   "id": "076e0b80-60d4-4ad2-8d43-55cb87dd97cc",
   "metadata": {},
   "outputs": [],
   "source": [
    "model.add(Dense(256, kernel_constraint=maxnorm(3)))\n",
    "model.add(Activation('relu'))\n",
    "model.add(Dropout(0.2))\n",
    "model.add(BatchNormalization())\n",
    "model.add(Dense(128, kernel_constraint=maxnorm(3)))\n",
    "model.add(Activation('relu'))\n",
    "model.add(Dropout(0.2))\n",
    "model.add(BatchNormalization())"
   ]
  },
  {
   "cell_type": "code",
   "execution_count": 28,
   "id": "210c8d5b-5688-40c7-abfb-5f268a8b3edb",
   "metadata": {},
   "outputs": [],
   "source": [
    "# выбирает нейрон с наиб. значением\n",
    "model.add(Dense(class_num))\n",
    "model.add(Activation('softmax'))"
   ]
  },
  {
   "cell_type": "code",
   "execution_count": 30,
   "id": "b910256e-d76e-496c-b757-b42154fb6629",
   "metadata": {},
   "outputs": [],
   "source": [
    "# оптимизатор\n",
    "epochs = 25\n",
    "optimizer = 'adam'"
   ]
  },
  {
   "cell_type": "code",
   "execution_count": 31,
   "id": "f07405ee-664c-4bcc-942d-cf1f0cf515bb",
   "metadata": {},
   "outputs": [],
   "source": [
    "# компиляция модели\n",
    "model.compile(loss='categorical_crossentropy', optimizer=optimizer, metrics=['accuracy'])"
   ]
  },
  {
   "cell_type": "code",
   "execution_count": 32,
   "id": "975d4164-d84c-4274-8080-45724831c4d2",
   "metadata": {},
   "outputs": [
    {
     "name": "stdout",
     "output_type": "stream",
     "text": [
      "Model: \"sequential\"\n",
      "_________________________________________________________________\n",
      " Layer (type)                Output Shape              Param #   \n",
      "=================================================================\n",
      " conv2d (Conv2D)             (None, 32, 32, 32)        896       \n",
      "                                                                 \n",
      " activation (Activation)     (None, 32, 32, 32)        0         \n",
      "                                                                 \n",
      " conv2d_1 (Conv2D)           (None, 32, 32, 32)        9248      \n",
      "                                                                 \n",
      " dropout (Dropout)           (None, 32, 32, 32)        0         \n",
      "                                                                 \n",
      " dropout_1 (Dropout)         (None, 32, 32, 32)        0         \n",
      "                                                                 \n",
      " conv2d_2 (Conv2D)           (None, 32, 32, 32)        9248      \n",
      "                                                                 \n",
      " dropout_2 (Dropout)         (None, 32, 32, 32)        0         \n",
      "                                                                 \n",
      " batch_normalization (BatchN  (None, 32, 32, 32)       128       \n",
      " ormalization)                                                   \n",
      "                                                                 \n",
      " conv2d_3 (Conv2D)           (None, 32, 32, 64)        18496     \n",
      "                                                                 \n",
      " activation_1 (Activation)   (None, 32, 32, 64)        0         \n",
      "                                                                 \n",
      " max_pooling2d (MaxPooling2D  (None, 16, 16, 64)       0         \n",
      " )                                                               \n",
      "                                                                 \n",
      " dropout_3 (Dropout)         (None, 16, 16, 64)        0         \n",
      "                                                                 \n",
      " batch_normalization_1 (Batc  (None, 16, 16, 64)       256       \n",
      " hNormalization)                                                 \n",
      "                                                                 \n",
      " conv2d_4 (Conv2D)           (None, 16, 16, 64)        36928     \n",
      "                                                                 \n",
      " activation_2 (Activation)   (None, 16, 16, 64)        0         \n",
      "                                                                 \n",
      " max_pooling2d_1 (MaxPooling  (None, 8, 8, 64)         0         \n",
      " 2D)                                                             \n",
      "                                                                 \n",
      " dropout_4 (Dropout)         (None, 8, 8, 64)          0         \n",
      "                                                                 \n",
      " batch_normalization_2 (Batc  (None, 8, 8, 64)         256       \n",
      " hNormalization)                                                 \n",
      "                                                                 \n",
      " conv2d_5 (Conv2D)           (None, 8, 8, 128)         73856     \n",
      "                                                                 \n",
      " activation_3 (Activation)   (None, 8, 8, 128)         0         \n",
      "                                                                 \n",
      " dropout_5 (Dropout)         (None, 8, 8, 128)         0         \n",
      "                                                                 \n",
      " batch_normalization_3 (Batc  (None, 8, 8, 128)        512       \n",
      " hNormalization)                                                 \n",
      "                                                                 \n",
      " flatten (Flatten)           (None, 8192)              0         \n",
      "                                                                 \n",
      " dropout_6 (Dropout)         (None, 8192)              0         \n",
      "                                                                 \n",
      " dense (Dense)               (None, 256)               2097408   \n",
      "                                                                 \n",
      " activation_4 (Activation)   (None, 256)               0         \n",
      "                                                                 \n",
      " dropout_7 (Dropout)         (None, 256)               0         \n",
      "                                                                 \n",
      " batch_normalization_4 (Batc  (None, 256)              1024      \n",
      " hNormalization)                                                 \n",
      "                                                                 \n",
      " dense_1 (Dense)             (None, 128)               32896     \n",
      "                                                                 \n",
      " activation_5 (Activation)   (None, 128)               0         \n",
      "                                                                 \n",
      " dropout_8 (Dropout)         (None, 128)               0         \n",
      "                                                                 \n",
      " batch_normalization_5 (Batc  (None, 128)              512       \n",
      " hNormalization)                                                 \n",
      "                                                                 \n",
      " dense_2 (Dense)             (None, 10)                1290      \n",
      "                                                                 \n",
      " activation_6 (Activation)   (None, 10)                0         \n",
      "                                                                 \n",
      "=================================================================\n",
      "Total params: 2,282,954\n",
      "Trainable params: 2,281,610\n",
      "Non-trainable params: 1,344\n",
      "_________________________________________________________________\n",
      "None\n"
     ]
    }
   ],
   "source": [
    "# сводка по модели\n",
    "print(model.summary())"
   ]
  },
  {
   "cell_type": "markdown",
   "id": "ccb0eb63-5420-41f8-ba1e-9c4f9ce423a5",
   "metadata": {},
   "source": [
    "### Приступим к обучению модели"
   ]
  },
  {
   "cell_type": "code",
   "execution_count": 34,
   "id": "cae2bdea-b519-4b24-8443-8ebdef2f904f",
   "metadata": {},
   "outputs": [
    {
     "name": "stderr",
     "output_type": "stream",
     "text": [
      "2022-12-20 23:32:45.487454: W tensorflow/tsl/framework/cpu_allocator_impl.cc:82] Allocation of 614400000 exceeds 10% of free system memory.\n",
      "2022-12-20 23:32:55.787560: W tensorflow/tsl/framework/bfc_allocator.cc:479] Allocator (GPU_0_bfc) ran out of memory trying to allocate 585.94MiB (rounded to 614400000)requested by op _EagerConst\n",
      "If the cause is memory fragmentation maybe the environment variable 'TF_GPU_ALLOCATOR=cuda_malloc_async' will improve the situation. \n",
      "Current allocation summary follows.\n",
      "Current allocation summary follows.\n",
      "2022-12-20 23:32:55.787596: I tensorflow/tsl/framework/bfc_allocator.cc:1034] BFCAllocator dump for GPU_0_bfc\n",
      "2022-12-20 23:32:55.787609: I tensorflow/tsl/framework/bfc_allocator.cc:1041] Bin (256): \tTotal Chunks: 41, Chunks in use: 41. 10.2KiB allocated for chunks. 10.2KiB in use in bin. 3.5KiB client-requested in use in bin.\n",
      "2022-12-20 23:32:55.787640: I tensorflow/tsl/framework/bfc_allocator.cc:1041] Bin (512): \tTotal Chunks: 10, Chunks in use: 10. 5.0KiB allocated for chunks. 5.0KiB in use in bin. 5.0KiB client-requested in use in bin.\n",
      "2022-12-20 23:32:55.787651: I tensorflow/tsl/framework/bfc_allocator.cc:1041] Bin (1024): \tTotal Chunks: 6, Chunks in use: 6. 6.2KiB allocated for chunks. 6.2KiB in use in bin. 6.0KiB client-requested in use in bin.\n",
      "2022-12-20 23:32:55.787661: I tensorflow/tsl/framework/bfc_allocator.cc:1041] Bin (2048): \tTotal Chunks: 1, Chunks in use: 1. 3.5KiB allocated for chunks. 3.5KiB in use in bin. 3.4KiB client-requested in use in bin.\n",
      "2022-12-20 23:32:55.787670: I tensorflow/tsl/framework/bfc_allocator.cc:1041] Bin (4096): \tTotal Chunks: 1, Chunks in use: 1. 5.0KiB allocated for chunks. 5.0KiB in use in bin. 5.0KiB client-requested in use in bin.\n",
      "2022-12-20 23:32:55.787680: I tensorflow/tsl/framework/bfc_allocator.cc:1041] Bin (8192): \tTotal Chunks: 1, Chunks in use: 0. 9.5KiB allocated for chunks. 0B in use in bin. 0B client-requested in use in bin.\n",
      "2022-12-20 23:32:55.787689: I tensorflow/tsl/framework/bfc_allocator.cc:1041] Bin (16384): \tTotal Chunks: 0, Chunks in use: 0. 0B allocated for chunks. 0B in use in bin. 0B client-requested in use"
     ]
    },
    {
     "ename": "InternalError",
     "evalue": "Failed copying input tensor from /job:localhost/replica:0/task:0/device:CPU:0 to /job:localhost/replica:0/task:0/device:GPU:0 in order to run _EagerConst: Dst tensor is not initialized.",
     "output_type": "error",
     "traceback": [
      "\u001b[0;31m---------------------------------------------------------------------------\u001b[0m",
      "\u001b[0;31mInternalError\u001b[0m                             Traceback (most recent call last)",
      "Cell \u001b[0;32mIn[34], line 2\u001b[0m\n\u001b[1;32m      1\u001b[0m numpy\u001b[38;5;241m.\u001b[39mrandom\u001b[38;5;241m.\u001b[39mseed(seed)\n\u001b[0;32m----> 2\u001b[0m \u001b[43mmodel\u001b[49m\u001b[38;5;241;43m.\u001b[39;49m\u001b[43mfit\u001b[49m\u001b[43m(\u001b[49m\u001b[43mX_train\u001b[49m\u001b[43m,\u001b[49m\u001b[43m \u001b[49m\u001b[43my_train\u001b[49m\u001b[43m,\u001b[49m\u001b[43m \u001b[49m\u001b[43mvalidation_data\u001b[49m\u001b[38;5;241;43m=\u001b[39;49m\u001b[43m(\u001b[49m\u001b[43mX_test\u001b[49m\u001b[43m,\u001b[49m\u001b[43m \u001b[49m\u001b[43my_test\u001b[49m\u001b[43m)\u001b[49m\u001b[43m,\u001b[49m\u001b[43m \u001b[49m\u001b[43mepochs\u001b[49m\u001b[38;5;241;43m=\u001b[39;49m\u001b[43mepochs\u001b[49m\u001b[43m,\u001b[49m\u001b[43m \u001b[49m\u001b[43mbatch_size\u001b[49m\u001b[38;5;241;43m=\u001b[39;49m\u001b[38;5;241;43m64\u001b[39;49m\u001b[43m)\u001b[49m\n",
      "File \u001b[0;32m~/anaconda3/envs/tf/lib/python3.9/site-packages/keras/utils/traceback_utils.py:70\u001b[0m, in \u001b[0;36mfilter_traceback.<locals>.error_handler\u001b[0;34m(*args, **kwargs)\u001b[0m\n\u001b[1;32m     67\u001b[0m     filtered_tb \u001b[38;5;241m=\u001b[39m _process_traceback_frames(e\u001b[38;5;241m.\u001b[39m__traceback__)\n\u001b[1;32m     68\u001b[0m     \u001b[38;5;66;03m# To get the full stack trace, call:\u001b[39;00m\n\u001b[1;32m     69\u001b[0m     \u001b[38;5;66;03m# `tf.debugging.disable_traceback_filtering()`\u001b[39;00m\n\u001b[0;32m---> 70\u001b[0m     \u001b[38;5;28;01mraise\u001b[39;00m e\u001b[38;5;241m.\u001b[39mwith_traceback(filtered_tb) \u001b[38;5;28;01mfrom\u001b[39;00m \u001b[38;5;28mNone\u001b[39m\n\u001b[1;32m     71\u001b[0m \u001b[38;5;28;01mfinally\u001b[39;00m:\n\u001b[1;32m     72\u001b[0m     \u001b[38;5;28;01mdel\u001b[39;00m filtered_tb\n",
      "File \u001b[0;32m~/anaconda3/envs/tf/lib/python3.9/site-packages/tensorflow/python/framework/constant_op.py:102\u001b[0m, in \u001b[0;36mconvert_to_eager_tensor\u001b[0;34m(value, ctx, dtype)\u001b[0m\n\u001b[1;32m    100\u001b[0m     dtype \u001b[38;5;241m=\u001b[39m dtypes\u001b[38;5;241m.\u001b[39mas_dtype(dtype)\u001b[38;5;241m.\u001b[39mas_datatype_enum\n\u001b[1;32m    101\u001b[0m ctx\u001b[38;5;241m.\u001b[39mensure_initialized()\n\u001b[0;32m--> 102\u001b[0m \u001b[38;5;28;01mreturn\u001b[39;00m \u001b[43mops\u001b[49m\u001b[38;5;241;43m.\u001b[39;49m\u001b[43mEagerTensor\u001b[49m\u001b[43m(\u001b[49m\u001b[43mvalue\u001b[49m\u001b[43m,\u001b[49m\u001b[43m \u001b[49m\u001b[43mctx\u001b[49m\u001b[38;5;241;43m.\u001b[39;49m\u001b[43mdevice_name\u001b[49m\u001b[43m,\u001b[49m\u001b[43m \u001b[49m\u001b[43mdtype\u001b[49m\u001b[43m)\u001b[49m\n",
      "\u001b[0;31mInternalError\u001b[0m: Failed copying input tensor from /job:localhost/replica:0/task:0/device:CPU:0 to /job:localhost/replica:0/task:0/device:GPU:0 in order to run _EagerConst: Dst tensor is not initialized."
     ]
    },
    {
     "name": "stderr",
     "output_type": "stream",
     "text": [
      " in bin.\n",
      "2022-12-20 23:32:55.787700: I tensorflow/tsl/framework/bfc_allocator.cc:1041] Bin (32768): \tTotal Chunks: 3, Chunks in use: 2. 117.8KiB allocated for chunks. 72.0KiB in use in bin. 72.0KiB client-requested in use in bin.\n",
      "2022-12-20 23:32:55.787710: I tensorflow/tsl/framework/bfc_allocator.cc:1041] Bin (65536): \tTotal Chunks: 2, Chunks in use: 1. 144.0KiB allocated for chunks. 72.0KiB in use in bin. 72.0KiB client-requested in use in bin.\n",
      "2022-12-20 23:32:55.787720: I tensorflow/tsl/framework/bfc_allocator.cc:1041] Bin (131072): \tTotal Chunks: 3, Chunks in use: 2. 432.0KiB allocated for chunks. 272.0KiB in use in bin. 272.0KiB client-requested in use in bin.\n",
      "2022-12-20 23:32:55.787731: I tensorflow/tsl/framework/bfc_allocator.cc:1041] Bin (262144): \tTotal Chunks: 2, Chunks in use: 1. 576.0KiB allocated for chunks. 288.0KiB in use in bin. 288.0KiB client-requested in use in bin.\n",
      "2022-12-20 23:32:55.787740: I tensorflow/tsl/framework/bfc_allocator.cc:1041] Bin (524288): \tTotal Chunks: 0, Chunks in use: 0. 0B allocated for chunks. 0B in use in bin. 0B client-requested in use in bin.\n",
      "2022-12-20 23:32:55.787748: I tensorflow/tsl/framework/bfc_allocator.cc:1041] Bin (1048576): \tTotal Chunks: 0, Chunks in use: 0. 0B allocated for chunks. 0B in use in bin. 0B client-requested in use in bin.\n",
      "2022-12-20 23:32:55.787757: I tensorflow/tsl/framework/bfc_allocator.cc:1041] Bin (2097152): \tTotal Chunks: 0, Chunks in use: 0. 0B allocated for chunks. 0B in use in bin. 0B client-requested in use in bin.\n",
      "2022-12-20 23:32:55.787765: I tensorflow/tsl/framework/bfc_allocator.cc:1041] Bin (4194304): \tTotal Chunks: 0, Chunks in use: 0. 0B allocated for chunks. 0B in use in bin. 0B client-requested in use in bin.\n",
      "2022-12-20 23:32:55.787772: I tensorflow/tsl/framework/bfc_allocator.cc:1041] Bin (8388608): \tTotal Chunks: 1, Chunks in use: 1. 8.00MiB allocated for chunks. 8.00MiB in use in bin. 8.00MiB client-requested in use in bin.\n",
      "2022-12-20 23:32:55.787778: I tensorflow/tsl/framework/bfc_allocator.cc:1041] Bin (16777216): \tTotal Chunks: 2, Chunks in use: 0. 33.97MiB allocated for chunks. 0B in use in bin. 0B client-requested in use in bin.\n",
      "2022-12-20 23:32:55.787786: I tensorflow/tsl/framework/bfc_allocator.cc:1041] Bin (33554432): \tTotal Chunks: 0, Chunks in use: 0. 0B allocated for chunks. 0B in use in bin. 0B client-requested in use in bin.\n",
      "2022-12-20 23:32:55.787792: I tensorflow/tsl/framework/bfc_allocator.cc:1041] Bin (67108864): \tTotal Chunks: 0, Chunks in use: 0. 0B allocated for chunks. 0B in use in bin. 0B client-requested in use in bin.\n",
      "2022-12-20 23:32:55.787797: I tensorflow/tsl/framework/bfc_allocator.cc:1041] Bin (134217728): \tTotal Chunks: 0, Chunks in use: 0. 0B allocated for chunks. 0B in use in bin. 0B client-requested in use in bin.\n",
      "2022-12-20 23:32:55.787802: I tensorflow/tsl/framework/bfc_allocator.cc:1041] Bin (268435456): \tTotal Chunks: 0, Chunks in use: 0. 0B allocated for chunks. 0B in use in bin. 0B client-requested in use in bin.\n",
      "2022-12-20 23:32:55.787809: I tensorflow/tsl/framework/bfc_allocator.cc:1057] Bin for 585.94MiB was 256.00MiB, Chunk State: \n",
      "2022-12-20 23:32:55.787814: I tensorflow/tsl/framework/bfc_allocator.cc:1070] Next region of size 45350912\n",
      "2022-12-20 23:32:55.787822: I tensorflow/tsl/framework/bfc_allocator.cc:1090] InUse at 702020000 of size 256 next 1\n",
      "2022-12-20 23:32:55.787826: I tensorflow/tsl/framework/bfc_allocator.cc:1090] InUse at 702020100 of size 1280 next 2\n",
      "2022-12-20 23:32:55.787831: I tensorflow/tsl/framework/bfc_allocator.cc:1090] InUse at 702020600 of size 256 next 3\n",
      "2022-12-20 23:32:55.787835: I tensorflow/tsl/framework/bfc_allocator.cc:1090] InUse at 702020700 of size 256 next 4\n",
      "2022-12-20 23:32:55.787839: I tensorflow/tsl/framework/bfc_allocator.cc:1090] InUse at 702020800 of size 256 next 6\n",
      "2022-12-20 23:32:55.787843: I tensorflow/tsl/framework/bfc_allocator.cc:1090] InUse at 702020900 of size 256 next 7\n",
      "2022-12-20 23:32:55.787847: I tensorflow/tsl/framework/bfc_allocator.cc:1090] InUse at 702020a00 of size 256 next 5\n",
      "2022-12-20 23:32:55.787852: I tensorflow/tsl/framework/bfc_allocator.cc:1090] InUse at 702020b00 of size 256 next 8\n",
      "2022-12-20 23:32:55.787856: I tensorflow/tsl/framework/bfc_allocator.cc:1090] InUse at 702020c00 of size 256 next 13\n",
      "2022-12-20 23:32:55.787860: I tensorflow/tsl/framework/bfc_allocator.cc:1090] InUse at 702020d00 of size 256 next 16\n",
      "2022-12-20 23:32:55.787864: I tensorflow/tsl/framework/bfc_allocator.cc:1090] InUse at 702020e00 of size 256 next 11\n",
      "2022-12-20 23:32:55.787869: I tensorflow/tsl/framework/bfc_allocator.cc:1090] InUse at 702020f00 of size 256 next 12\n",
      "2022-12-20 23:32:55.787873: I tensorflow/tsl/framework/bfc_allocator.cc:1090] InUse at 702021000 of size 256 next 18\n",
      "2022-12-20 23:32:55.787877: I tensorflow/tsl/framework/bfc_allocator.cc:1090] InUse at 702021100 of size 256 next 19\n",
      "2022-12-20 23:32:55.787881: I tensorflow/tsl/framework/bfc_allocator.cc:1090] InUse at 702021200 of size 256 next 20\n",
      "2022-12-20 23:32:55.787885: I tensorflow/tsl/framework/bfc_allocator.cc:1090] InUse at 702021300 of size 256 next 21\n",
      "2022-12-20 23:32:55.787889: I tensorflow/tsl/framework/bfc_allocator.cc:1090] InUse at 702021400 of size 256 next 22\n",
      "2022-12-20 23:32:55.787894: I tensorflow/tsl/framework/bfc_allocator.cc:1090] InUse at 702021500 of size 256 next 23\n",
      "2022-12-20 23:32:55.787898: I tensorflow/tsl/framework/bfc_allocator.cc:1090] InUse at 702021600 of size 256 next 24\n",
      "2022-12-20 23:32:55.787902: I tensorflow/tsl/framework/bfc_allocator.cc:1090] InUse at 702021700 of size 256 next 27\n",
      "2022-12-20 23:32:55.787906: I tensorflow/tsl/framework/bfc_allocator.cc:1090] InUse at 702021800 of size 256 next 28\n",
      "2022-12-20 23:32:55.787910: I tensorflow/tsl/framework/bfc_allocator.cc:1090] InUse at 702021900 of size 256 next 29\n",
      "2022-12-20 23:32:55.787914: I tensorflow/tsl/framework/bfc_allocator.cc:1090] InUse at 702021a00 of size 256 next 30\n",
      "2022-12-20 23:32:55.787919: I tensorflow/tsl/framework/bfc_allocator.cc:1090] InUse at 702021b00 of size 256 next 31\n",
      "2022-12-20 23:32:55.787923: I tensorflow/tsl/framework/bfc_allocator.cc:1090] InUse at 702021c00 of size 256 next 34\n",
      "2022-12-20 23:32:55.787928: I tensorflow/tsl/framework/bfc_allocator.cc:1090] InUse at 702021d00 of size 256 next 32\n",
      "2022-12-20 23:32:55.787932: I tensorflow/tsl/framework/bfc_allocator.cc:1090] InUse at 702021e00 of size 256 next 33\n",
      "2022-12-20 23:32:55.787936: I tensorflow/tsl/framework/bfc_allocator.cc:1090] InUse at 702021f00 of size 256 next 37\n",
      "2022-12-20 23:32:55.787940: I tensorflow/tsl/framework/bfc_allocator.cc:1090] InUse at 702022000 of size 256 next 38\n",
      "2022-12-20 23:32:55.787944: I tensorflow/tsl/framework/bfc_allocator.cc:1090] InUse at 702022100 of size 256 next 39\n",
      "2022-12-20 23:32:55.787949: I tensorflow/tsl/framework/bfc_allocator.cc:1090] InUse at 702022200 of size 256 next 40\n",
      "2022-12-20 23:32:55.787953: I tensorflow/tsl/framework/bfc_allocator.cc:1090] InUse at 702022300 of size 512 next 41\n",
      "2022-12-20 23:32:55.787957: I tensorflow/tsl/framework/bfc_allocator.cc:1090] InUse at 702022500 of size 512 next 9\n",
      "2022-12-20 23:32:55.787962: I tensorflow/tsl/framework/bfc_allocator.cc:1090] InUse at 702022700 of size 3584 next 10\n",
      "2022-12-20 23:32:55.787966: I tensorflow/tsl/framework/bfc_allocator.cc:1090] InUse at 702023500 of size 512 next 42\n",
      "2022-12-20 23:32:55.787970: I tensorflow/tsl/framework/bfc_allocator.cc:1090] InUse at 702023700 of size 512 next 45\n",
      "2022-12-20 23:32:55.787974: I tensorflow/tsl/framework/bfc_allocator.cc:1090] InUse at 702023900 of size 512 next 46\n",
      "2022-12-20 23:32:55.787979: I tensorflow/tsl/framework/bfc_allocator.cc:1090] InUse at 702023b00 of size 256 next 47\n",
      "2022-12-20 23:32:55.787983: I tensorflow/tsl/framework/bfc_allocator.cc:1090] InUse at 702023c00 of size 256 next 48\n",
      "2022-12-20 23:32:55.787987: I tensorflow/tsl/framework/bfc_allocator.cc:1090] InUse at 702023d00 of size 1024 next 51\n",
      "2022-12-20 23:32:55.787992: I tensorflow/tsl/framework/bfc_allocator.cc:1090] InUse at 702024100 of size 1024 next 49\n",
      "2022-12-20 23:32:55.787996: I tensorflow/tsl/framework/bfc_allocator.cc:1090] InUse at 702024500 of size 1024 next 50\n",
      "2022-12-20 23:32:55.788000: I tensorflow/tsl/framework/bfc_allocator.cc:1090] InUse at 702024900 of size 1024 next 54\n",
      "2022-12-20 23:32:55.788004: I tensorflow/tsl/framework/bfc_allocator.cc:1090] InUse at 702024d00 of size 1024 next 55\n",
      "2022-12-20 23:32:55.788008: I tensorflow/tsl/framework/bfc_allocator.cc:1090] InUse at 702025100 of size 256 next 56\n",
      "2022-12-20 23:32:55.788013: I tensorflow/tsl/framework/bfc_allocator.cc:1090] InUse at 702025200 of size 256 next 57\n",
      "2022-12-20 23:32:55.788017: I tensorflow/tsl/framework/bfc_allocator.cc:1090] InUse at 702025300 of size 512 next 60\n",
      "2022-12-20 23:32:55.788021: I tensorflow/tsl/framework/bfc_allocator.cc:1090] InUse at 702025500 of size 512 next 58\n",
      "2022-12-20 23:32:55.788025: I tensorflow/tsl/framework/bfc_allocator.cc:1090] InUse at 702025700 of size 512 next 59\n",
      "2022-12-20 23:32:55.788029: I tensorflow/tsl/framework/bfc_allocator.cc:1090] InUse at 702025900 of size 512 next 62\n",
      "2022-12-20 23:32:55.788034: I tensorflow/tsl/framework/bfc_allocator.cc:1090] InUse at 702025b00 of size 512 next 63\n",
      "2022-12-20 23:32:55.788038: I tensorflow/tsl/framework/bfc_allocator.cc:1090] InUse at 702025d00 of size 256 next 64\n",
      "2022-12-20 23:32:55.788042: I tensorflow/tsl/framework/bfc_allocator.cc:1090] InUse at 702025e00 of size 256 next 65\n",
      "2022-12-20 23:32:55.788046: I tensorflow/tsl/framework/bfc_allocator.cc:1090] InUse at 702025f00 of size 256 next 67\n",
      "2022-12-20 23:32:55.788050: I tensorflow/tsl/framework/bfc_allocator.cc:1090] InUse at 702026000 of size 256 next 68\n",
      "2022-12-20 23:32:55.788058: I tensorflow/tsl/framework/bfc_allocator.cc:1090] InUse at 702026100 of size 256 next 66\n",
      "2022-12-20 23:32:55.788062: I tensorflow/tsl/framework/bfc_allocator.cc:1090] InUse at 702026200 of size 256 next 69\n",
      "2022-12-20 23:32:55.788067: I tensorflow/tsl/framework/bfc_allocator.cc:1090] InUse at 702026300 of size 256 next 72\n",
      "2022-12-20 23:32:55.788071: I tensorflow/tsl/framework/bfc_allocator.cc:1090] Free  at 702026400 of size 9728 next 70\n",
      "2022-12-20 23:32:55.788076: I tensorflow/tsl/framework/bfc_allocator.cc:1090] InUse at 702028a00 of size 5120 next 71\n",
      "2022-12-20 23:32:55.788080: I tensorflow/tsl/framework/bfc_allocator.cc:1090] Free  at 702029e00 of size 46848 next 15\n",
      "2022-12-20 23:32:55.788086: I tensorflow/tsl/framework/bfc_allocator.cc:1090] InUse at 702035500 of size 36864 next 14\n",
      "2022-12-20 23:32:55.788091: I tensorflow/tsl/framework/bfc_allocator.cc:1090] InUse at 70203e500 of size 36864 next 17\n",
      "2022-12-20 23:32:55.788095: I tensorflow/tsl/framework/bfc_allocator.cc:1090] Free  at 702047500 of size 73728 next 26\n",
      "2022-12-20 23:32:55.788099: I tensorflow/tsl/framework/bfc_allocator.cc:1090] InUse at 702059500 of size 73728 next 25\n",
      "2022-12-20 23:32:55.788103: I tensorflow/tsl/framework/bfc_allocator.cc:1090] Free  at 70206b500 of size 294912 next 36\n",
      "2022-12-20 23:32:55.788108: I tensorflow/tsl/framework/bfc_allocator.cc:1090] InUse at 7020b3500 of size 147456 next 35\n",
      "2022-12-20 23:32:55.788112: I tensorflow/tsl/framework/bfc_allocator.cc:1090] InUse at 7020d7500 of size 131072 next 61\n",
      "2022-12-20 23:32:55.788116: I tensorflow/tsl/framework/bfc_allocator.cc:1090] Free  at 7020f7500 of size 163840 next 44\n",
      "2022-12-20 23:32:55.788121: I tensorflow/tsl/framework/bfc_allocator.cc:1090] InUse at 70211f500 of size 294912 next 43\n",
      "2022-12-20 23:32:55.788125: I tensorflow/tsl/framework/bfc_allocator.cc:1090] Free  at 702167500 of size 16777216 next 53\n",
      "2022-12-20 23:32:55.788129: I tensorflow/tsl/framework/bfc_allocator.cc:1090] InUse at 703167500 of size 8388608 next 52\n",
      "2022-12-20 23:32:55.788134: I tensorflow/tsl/framework/bfc_allocator.cc:1090] Free  at 703967500 of size 18844416 next 18446744073709551615\n",
      "2022-12-20 23:32:55.788138: I tensorflow/tsl/framework/bfc_allocator.cc:1095]      Summary of in-use Chunks by size: \n",
      "2022-12-20 23:32:55.788144: I tensorflow/tsl/framework/bfc_allocator.cc:1098] 41 Chunks of size 256 totalling 10.2KiB\n",
      "2022-12-20 23:32:55.788150: I tensorflow/tsl/framework/bfc_allocator.cc:1098] 10 Chunks of size 512 totalling 5.0KiB\n",
      "2022-12-20 23:32:55.788154: I tensorflow/tsl/framework/bfc_allocator.cc:1098] 5 Chunks of size 1024 totalling 5.0KiB\n",
      "2022-12-20 23:32:55.788159: I tensorflow/tsl/framework/bfc_allocator.cc:1098] 1 Chunks of size 1280 totalling 1.2KiB\n",
      "2022-12-20 23:32:55.788164: I tensorflow/tsl/framework/bfc_allocator.cc:1098] 1 Chunks of size 3584 totalling 3.5KiB\n",
      "2022-12-20 23:32:55.788168: I tensorflow/tsl/framework/bfc_allocator.cc:1098] 1 Chunks of size 5120 totalling 5.0KiB\n",
      "2022-12-20 23:32:55.788173: I tensorflow/tsl/framework/bfc_allocator.cc:1098] 2 Chunks of size 36864 totalling 72.0KiB\n",
      "2022-12-20 23:32:55.788178: I tensorflow/tsl/framework/bfc_allocator.cc:1098] 1 Chunks of size 73728 totalling 72.0KiB\n",
      "2022-12-20 23:32:55.788183: I tensorflow/tsl/framework/bfc_allocator.cc:1098] 1 Chunks of size 131072 totalling 128.0KiB\n",
      "2022-12-20 23:32:55.788187: I tensorflow/tsl/framework/bfc_allocator.cc:1098] 1 Chunks of size 147456 totalling 144.0KiB\n",
      "2022-12-20 23:32:55.788192: I tensorflow/tsl/framework/bfc_allocator.cc:1098] 1 Chunks of size 294912 totalling 288.0KiB\n",
      "2022-12-20 23:32:55.788197: I tensorflow/tsl/framework/bfc_allocator.cc:1098] 1 Chunks of size 8388608 totalling 8.00MiB\n",
      "2022-12-20 23:32:55.788202: I tensorflow/tsl/framework/bfc_allocator.cc:1102] Sum Total of in-use chunks: 8.72MiB\n",
      "2022-12-20 23:32:55.788206: I tensorflow/tsl/framework/bfc_allocator.cc:1104] total_region_allocated_bytes_: 45350912 memory_limit_: 45350912 available bytes: 0 curr_region_allocation_bytes_: 90701824\n",
      "2022-12-20 23:32:55.788214: I tensorflow/tsl/framework/bfc_allocator.cc:1110] Stats: \n",
      "Limit:                        45350912\n",
      "InUse:                         9140224\n",
      "MaxInUse:                     25771776\n",
      "NumAllocs:                         111\n",
      "MaxAllocSize:                  8388608\n",
      "Reserved:                            0\n",
      "PeakReserved:                        0\n",
      "LargestFreeBlock:                    0\n",
      "\n",
      "2022-12-20 23:32:55.788223: W tensorflow/tsl/framework/bfc_allocator.cc:492] ***____________________________________********************_________________________________________\n"
     ]
    }
   ],
   "source": [
    "numpy.random.seed(seed)\n",
    "model.fit(X_train, y_train, validation_data=(X_test, y_test), epochs=epochs, batch_size=64)"
   ]
  },
  {
   "cell_type": "code",
   "execution_count": null,
   "id": "2dfc0774-511e-4407-8f7e-4ec1a8523003",
   "metadata": {},
   "outputs": [],
   "source": []
  }
 ],
 "metadata": {
  "kernelspec": {
   "display_name": "Python 3 (ipykernel)",
   "language": "python",
   "name": "python3"
  },
  "language_info": {
   "codemirror_mode": {
    "name": "ipython",
    "version": 3
   },
   "file_extension": ".py",
   "mimetype": "text/x-python",
   "name": "python",
   "nbconvert_exporter": "python",
   "pygments_lexer": "ipython3",
   "version": "3.9.15"
  }
 },
 "nbformat": 4,
 "nbformat_minor": 5
}
