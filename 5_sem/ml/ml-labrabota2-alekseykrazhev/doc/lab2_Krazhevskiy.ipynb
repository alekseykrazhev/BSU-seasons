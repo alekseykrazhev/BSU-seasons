{
 "cells": [
  {
   "cell_type": "markdown",
   "id": "5ed8b8e0-3df7-4754-9968-6003917bfa35",
   "metadata": {},
   "source": [
    "# Отчет по лабораторной №2 ML"
   ]
  },
  {
   "cell_type": "markdown",
   "id": "9d73f9b9-1c76-420d-b420-2aff1dcee514",
   "metadata": {},
   "source": [
    "# Кражевский Алексей, группа 13а"
   ]
  },
  {
   "cell_type": "markdown",
   "id": "f3a40ce3-e1bd-4cf6-bc68-015036b5248b",
   "metadata": {},
   "source": [
    "## Task 1"
   ]
  },
  {
   "cell_type": "code",
   "execution_count": 1,
   "id": "316390f1-6d5a-4386-9e83-e4926dc7d5db",
   "metadata": {},
   "outputs": [
    {
     "name": "stdout",
     "output_type": "stream",
     "text": [
      "Enter amount of yesterday's bread you bought: 5\n"
     ]
    },
    {
     "name": "stdout",
     "output_type": "stream",
     "text": [
      "*             Usual bread price:  3.52             *\n",
      "*        Price for yesterday's bread:  1.58        *\n",
      "*                Full price:  7.92                 *\n"
     ]
    }
   ],
   "source": [
    "bread_full_price = 3.52\n",
    "sale_cof = 0.45\n",
    "\n",
    "yesterday_bread = int(input(\"Enter amount of yesterday's bread you bought:\"))\n",
    "\n",
    "print(\"*\"+\"Usual bread price: %5.2f\".center(50) % bread_full_price + \"*\")\n",
    "print(\"*\"+\"Price for yesterday's bread: %5.2f\".center(50) % (sale_cof * bread_full_price)+\"*\")\n",
    "print(\"*\"+\"Full price: %5.2f\".center(50) % (bread_full_price * sale_cof * yesterday_bread)+\"*\")"
   ]
  },
  {
   "cell_type": "markdown",
   "id": "88c24e54-4b5b-4494-9fac-516eac3a18cd",
   "metadata": {},
   "source": [
    "## Task 2"
   ]
  },
  {
   "cell_type": "code",
   "execution_count": 7,
   "id": "c49bde0e-6d5b-4c70-80cd-3a4626cbce75",
   "metadata": {},
   "outputs": [
    {
     "name": "stdout",
     "output_type": "stream",
     "text": [
      "Enter noise level (dcb):  105\n",
      "Между Будильник и Газовая газонокосилка\n"
     ]
    }
   ],
   "source": [
    "dec_level = int(input('Enter noise level (dcb): '))\n",
    "\n",
    "levels = {130: 'Отбойный молоток', 106: 'Газовая газонокосилка', 70: 'Будильник', 40: 'Тихая комната'}\n",
    "\n",
    "if dec_level in levels.keys():\n",
    "    print(levels[dec_level])\n",
    "    quit(0)\n",
    "\n",
    "if dec_level < 40:\n",
    "    print('Меньше тихой комнаты...')\n",
    "    quit(0)\n",
    "\n",
    "if dec_level > 130:\n",
    "    print('Больше отбойного молотка!')\n",
    "    quit(0)\n",
    "\n",
    "if 40 < dec_level < 70:\n",
    "    print('Между', levels[40], 'и', levels[70])\n",
    "\n",
    "if 70 < dec_level < 106:\n",
    "    print('Между', levels[70], 'и', levels[106])\n",
    "\n",
    "if 106 < dec_level < 130:\n",
    "    print('Между', levels[106], 'и', levels[130])"
   ]
  },
  {
   "cell_type": "markdown",
   "id": "afabedd4-6ba1-40cd-b99a-3d4b3d2cc882",
   "metadata": {},
   "source": [
    "## Task 3"
   ]
  },
  {
   "cell_type": "code",
   "execution_count": 8,
   "id": "65c697ff-7e98-41dd-a5c6-38c46d408e50",
   "metadata": {},
   "outputs": [
    {
     "name": "stdout",
     "output_type": "stream",
     "text": [
      "Enter age of a visitor:  56\n",
      "Enter age of a visitor:  33\n",
      "Enter age of a visitor:  3\n",
      "Enter age of a visitor:  88\n",
      "Enter age of a visitor:  \n",
      "Calculation stopped.\n",
      "*           Total cost: 38.25            *\n"
     ]
    }
   ],
   "source": [
    "tickets_sum = 0\n",
    "\n",
    "while True:\n",
    "    age = input('Enter age of a visitor: ')\n",
    "\n",
    "    if age == '':\n",
    "        print('Calculation stopped.')\n",
    "        break\n",
    "\n",
    "    age = int(age)\n",
    "\n",
    "    if age < 3:\n",
    "        print('You are too young!')\n",
    "        continue\n",
    "\n",
    "    if 3 <= age <= 12:\n",
    "        tickets_sum += 4.5\n",
    "        continue\n",
    "\n",
    "    if age > 65:\n",
    "        tickets_sum += 8.25\n",
    "        continue\n",
    "\n",
    "    tickets_sum += 12.75\n",
    "\n",
    "print('*' + 'Total cost: %5.2f '.center(40) % tickets_sum + '*')"
   ]
  },
  {
   "cell_type": "markdown",
   "id": "b3deeaf5-4bfd-4825-882d-ca87f1beb477",
   "metadata": {},
   "source": [
    "## Task 4"
   ]
  },
  {
   "cell_type": "markdown",
   "id": "73f6d757-084c-4530-a81d-0756b1b18e8f",
   "metadata": {},
   "source": [
    "### file Function.py"
   ]
  },
  {
   "cell_type": "code",
   "execution_count": 4,
   "id": "12a8dd05-22b2-438b-87c1-56c008b9b8bf",
   "metadata": {},
   "outputs": [],
   "source": [
    "def check_triangle(a: int, b: int, c: int) -> bool:\n",
    "    \"\"\"\n",
    "    Function to check whether triangle exists\n",
    "    :param a: first side\n",
    "    :param b: second side\n",
    "    :param c: third side\n",
    "    :return: True - if exists, False - otherwise\n",
    "    \"\"\"\n",
    "    if a <= 0 or b <= 0 or c <= 0:\n",
    "        return False\n",
    "\n",
    "    if a >= b + c or b >= a + c or c >= a + b:\n",
    "        return False\n",
    "\n",
    "    return True\n"
   ]
  },
  {
   "cell_type": "markdown",
   "id": "8760fe74-0337-4a3f-b604-0168974c34a9",
   "metadata": {},
   "source": [
    "### file main.py"
   ]
  },
  {
   "cell_type": "code",
   "execution_count": 9,
   "id": "fe03f25f-41b6-40b6-8359-c5cfb53c62f4",
   "metadata": {},
   "outputs": [
    {
     "name": "stdout",
     "output_type": "stream",
     "text": [
      "Enter first side:  6\n",
      "Enter second side:  2\n",
      "Enter third side:  1\n",
      "Triangle doesn't exist...\n"
     ]
    }
   ],
   "source": [
    "a = int(input('Enter first side: '))\n",
    "b = int(input('Enter second side: '))\n",
    "c = int(input('Enter third side: '))\n",
    "\n",
    "if check_triangle(a, b, c):\n",
    "    print('Triangle exists!')\n",
    "else:\n",
    "    print(\"Triangle doesn't exist...\")"
   ]
  },
  {
   "cell_type": "markdown",
   "id": "54a28651-b0c5-4e65-8dc3-6643a4fccaf4",
   "metadata": {},
   "source": [
    "## Task 5"
   ]
  },
  {
   "cell_type": "code",
   "execution_count": 2,
   "id": "dad7d568-4a3d-4d80-9d20-06e5c286049f",
   "metadata": {},
   "outputs": [],
   "source": [
    "import numpy as np\n",
    "import matplotlib.pyplot as plt\n",
    "from sklearn.neighbors import KNeighborsClassifier\n",
    "from sklearn.datasets import load_wine\n",
    "from sklearn.model_selection import train_test_split\n",
    "from sklearn import metrics"
   ]
  },
  {
   "cell_type": "code",
   "execution_count": 4,
   "id": "4ba590ea-d9ae-4f63-8237-6f931c4d4317",
   "metadata": {},
   "outputs": [],
   "source": [
    "class KNearestNeighbors:\n",
    "    def __init__(self, n_neighbors):\n",
    "        self.ty = None\n",
    "        self.tX = None\n",
    "        self.n_neighbors = n_neighbors\n",
    "\n",
    "    def fit(self, X, y):\n",
    "        self.tX = X\n",
    "        self.ty = y\n",
    "\n",
    "    def predict(self, X):\n",
    "        # count of iterations (points)\n",
    "        num_training = X.shape[0]\n",
    "        # initialize array of predicted values\n",
    "        prediction = np.zeros(num_training, dtype=self.ty.dtype)\n",
    "\n",
    "        for i in range(num_training):\n",
    "            # count distances between train points and test points\n",
    "            distances = np.sqrt(np.sum(np.square(self.tX - X[i, :]), axis=1))\n",
    "            # create array to store both distance and 'class'\n",
    "            distance_label = np.column_stack((distances, self.ty))\n",
    "            # sort by distances\n",
    "            sorted_distance = distance_label[distance_label[:, 0].argsort()]\n",
    "            # take k sorted distances\n",
    "            k_sorted_distance = sorted_distance[:self.n_neighbors, :]\n",
    "            # count occurences of each class\n",
    "            (labels, occurence) = np.unique(k_sorted_distance[:, 1], return_counts=True)\n",
    "            # add predicted class\n",
    "            ind = np.where(occurence == np.amax(occurence))[0]\n",
    "            if ind.shape:\n",
    "                ind = ind[0]\n",
    "            label = labels[ind]\n",
    "            prediction[i] = label\n",
    "\n",
    "        return prediction"
   ]
  },
  {
   "cell_type": "markdown",
   "id": "39fd2536-7dbb-439d-9095-cb2f978d1093",
   "metadata": {},
   "source": [
    "### Simple dataset test from sci-learn documentation (test result is [0]):"
   ]
  },
  {
   "cell_type": "code",
   "execution_count": 6,
   "id": "40649209-093f-459c-98ae-3cf37ca11358",
   "metadata": {},
   "outputs": [
    {
     "name": "stdout",
     "output_type": "stream",
     "text": [
      "Training data:\n",
      " [[0]\n",
      " [1]\n",
      " [2]\n",
      " [3]]\n",
      "Target values:\n",
      " [0 0 1 1]\n",
      "Prediction:\n",
      " [0]\n"
     ]
    }
   ],
   "source": [
    "knn = KNearestNeighbors(3)\n",
    "# points\n",
    "X = np.array([[0], [1], [2], [3]])\n",
    "# classes for each point\n",
    "y = np.array([0, 0, 1, 1])\n",
    "\n",
    "print('Training data:\\n', X)\n",
    "print('Target values:\\n', y)\n",
    "\n",
    "knn.fit(X, y)\n",
    "print('Prediction:\\n', knn.predict(np.array([[1.1]])))"
   ]
  },
  {
   "cell_type": "markdown",
   "id": "55319e87-c796-4aa7-bcd5-12ee649cec03",
   "metadata": {},
   "source": [
    "### Wine dataset test:"
   ]
  },
  {
   "cell_type": "code",
   "execution_count": 5,
   "id": "55464dc6-3ebb-4d9c-b4e4-6da4432b1871",
   "metadata": {},
   "outputs": [
    {
     "name": "stdout",
     "output_type": "stream",
     "text": [
      "Prediction:\n",
      " [1 1 1 2 1 0 0 1 2 2 0 1 0 1 0 1 0 0 1 0 1 0 1 2 0 1 0 0 0 1 0 0 0 1 2 0 1\n",
      " 1 0 1 0 2 1 0 2 2 0 2 1 2 1 1 2 1]\n",
      "Correct:\n",
      " [1 1 1 2 1 0 0 1 2 2 0 1 0 1 0 1 0 0 1 0 1 0 1 2 0 1 0 0 0 1 0 0 0 1 2 0 1\n",
      " 1 0 1 0 2 1 0 2 2 0 2 1 2 1 1 2 1]\n",
      "Accuracy: 0.7407407407407407\n",
      "Correct acc: 0.7407407407407407\n"
     ]
    }
   ],
   "source": [
    "knn1 = KNearestNeighbors(7)\n",
    "knn_check = KNeighborsClassifier(n_neighbors=7)\n",
    "wine = load_wine()\n",
    "X_train, X_test, y_train, y_test = train_test_split(wine.data, wine.target, test_size=0.3)\n",
    " \n",
    "knn1.fit(X_train, y_train)\n",
    "knn_check.fit(X_train, y_train)\n",
    "\n",
    "y_pred = knn1.predict(X_test)\n",
    "y_pred_check = knn_check.predict(X_test)\n",
    "\n",
    "print('Prediction:\\n', y_pred)\n",
    "print('Correct:\\n', y_pred_check)\n",
    "print('Accuracy:', metrics.accuracy_score(y_test, y_pred))\n",
    "print('Correct acc:', metrics.accuracy_score(y_test, y_pred_check))"
   ]
  },
  {
   "cell_type": "markdown",
   "id": "85821641-f930-4041-bb95-c17542e27106",
   "metadata": {},
   "source": [
    "## Data visualization:"
   ]
  },
  {
   "cell_type": "code",
   "execution_count": 3,
   "id": "80bf8357-4306-41dc-ba5d-8b265c0fe0c7",
   "metadata": {},
   "outputs": [
    {
     "data": {
      "image/png": "[encoded data removed]",
      "text/plain": [
       "<Figure size 432x288 with 1 Axes>"
      ]
     },
     "metadata": {
      "needs_background": "light"
     },
     "output_type": "display_data"
    },
    {
     "data": {
      "text/html": [
       "<div>\n",
       "<style scoped>\n",
       "    .dataframe tbody tr th:only-of-type {\n",
       "        vertical-align: middle;\n",
       "    }\n",
       "\n",
       "    .dataframe tbody tr th {\n",
       "        vertical-align: top;\n",
       "    }\n",
       "\n",
       "    .dataframe thead th {\n",
       "        text-align: right;\n",
       "    }\n",
       "</style>\n",
       "<table border=\"1\" class=\"dataframe\">\n",
       "  <thead>\n",
       "    <tr style=\"text-align: right;\">\n",
       "      <th></th>\n",
       "      <th>alcohol</th>\n",
       "      <th>malic_acid</th>\n",
       "      <th>ash</th>\n",
       "      <th>alcalinity_of_ash</th>\n",
       "      <th>magnesium</th>\n",
       "      <th>total_phenols</th>\n",
       "      <th>flavanoids</th>\n",
       "      <th>nonflavanoid_phenols</th>\n",
       "      <th>proanthocyanins</th>\n",
       "      <th>color_intensity</th>\n",
       "      <th>hue</th>\n",
       "      <th>od280/od315_of_diluted_wines</th>\n",
       "      <th>proline</th>\n",
       "      <th>target_class</th>\n",
       "    </tr>\n",
       "  </thead>\n",
       "  <tbody>\n",
       "    <tr>\n",
       "      <th>0</th>\n",
       "      <td>14.23</td>\n",
       "      <td>1.71</td>\n",
       "      <td>2.43</td>\n",
       "      <td>15.6</td>\n",
       "      <td>127.0</td>\n",
       "      <td>2.80</td>\n",
       "      <td>3.06</td>\n",
       "      <td>0.28</td>\n",
       "      <td>2.29</td>\n",
       "      <td>5.64</td>\n",
       "      <td>1.04</td>\n",
       "      <td>3.92</td>\n",
       "      <td>1065.0</td>\n",
       "      <td>0</td>\n",
       "    </tr>\n",
       "    <tr>\n",
       "      <th>1</th>\n",
       "      <td>13.20</td>\n",
       "      <td>1.78</td>\n",
       "      <td>2.14</td>\n",
       "      <td>11.2</td>\n",
       "      <td>100.0</td>\n",
       "      <td>2.65</td>\n",
       "      <td>2.76</td>\n",
       "      <td>0.26</td>\n",
       "      <td>1.28</td>\n",
       "      <td>4.38</td>\n",
       "      <td>1.05</td>\n",
       "      <td>3.40</td>\n",
       "      <td>1050.0</td>\n",
       "      <td>0</td>\n",
       "    </tr>\n",
       "    <tr>\n",
       "      <th>2</th>\n",
       "      <td>13.16</td>\n",
       "      <td>2.36</td>\n",
       "      <td>2.67</td>\n",
       "      <td>18.6</td>\n",
       "      <td>101.0</td>\n",
       "      <td>2.80</td>\n",
       "      <td>3.24</td>\n",
       "      <td>0.30</td>\n",
       "      <td>2.81</td>\n",
       "      <td>5.68</td>\n",
       "      <td>1.03</td>\n",
       "      <td>3.17</td>\n",
       "      <td>1185.0</td>\n",
       "      <td>0</td>\n",
       "    </tr>\n",
       "    <tr>\n",
       "      <th>3</th>\n",
       "      <td>14.37</td>\n",
       "      <td>1.95</td>\n",
       "      <td>2.50</td>\n",
       "      <td>16.8</td>\n",
       "      <td>113.0</td>\n",
       "      <td>3.85</td>\n",
       "      <td>3.49</td>\n",
       "      <td>0.24</td>\n",
       "      <td>2.18</td>\n",
       "      <td>7.80</td>\n",
       "      <td>0.86</td>\n",
       "      <td>3.45</td>\n",
       "      <td>1480.0</td>\n",
       "      <td>0</td>\n",
       "    </tr>\n",
       "    <tr>\n",
       "      <th>4</th>\n",
       "      <td>13.24</td>\n",
       "      <td>2.59</td>\n",
       "      <td>2.87</td>\n",
       "      <td>21.0</td>\n",
       "      <td>118.0</td>\n",
       "      <td>2.80</td>\n",
       "      <td>2.69</td>\n",
       "      <td>0.39</td>\n",
       "      <td>1.82</td>\n",
       "      <td>4.32</td>\n",
       "      <td>1.04</td>\n",
       "      <td>2.93</td>\n",
       "      <td>735.0</td>\n",
       "      <td>0</td>\n",
       "    </tr>\n",
       "    <tr>\n",
       "      <th>...</th>\n",
       "      <td>...</td>\n",
       "      <td>...</td>\n",
       "      <td>...</td>\n",
       "      <td>...</td>\n",
       "      <td>...</td>\n",
       "      <td>...</td>\n",
       "      <td>...</td>\n",
       "      <td>...</td>\n",
       "      <td>...</td>\n",
       "      <td>...</td>\n",
       "      <td>...</td>\n",
       "      <td>...</td>\n",
       "      <td>...</td>\n",
       "      <td>...</td>\n",
       "    </tr>\n",
       "    <tr>\n",
       "      <th>173</th>\n",
       "      <td>13.71</td>\n",
       "      <td>5.65</td>\n",
       "      <td>2.45</td>\n",
       "      <td>20.5</td>\n",
       "      <td>95.0</td>\n",
       "      <td>1.68</td>\n",
       "      <td>0.61</td>\n",
       "      <td>0.52</td>\n",
       "      <td>1.06</td>\n",
       "      <td>7.70</td>\n",
       "      <td>0.64</td>\n",
       "      <td>1.74</td>\n",
       "      <td>740.0</td>\n",
       "      <td>2</td>\n",
       "    </tr>\n",
       "    <tr>\n",
       "      <th>174</th>\n",
       "      <td>13.40</td>\n",
       "      <td>3.91</td>\n",
       "      <td>2.48</td>\n",
       "      <td>23.0</td>\n",
       "      <td>102.0</td>\n",
       "      <td>1.80</td>\n",
       "      <td>0.75</td>\n",
       "      <td>0.43</td>\n",
       "      <td>1.41</td>\n",
       "      <td>7.30</td>\n",
       "      <td>0.70</td>\n",
       "      <td>1.56</td>\n",
       "      <td>750.0</td>\n",
       "      <td>2</td>\n",
       "    </tr>\n",
       "    <tr>\n",
       "      <th>175</th>\n",
       "      <td>13.27</td>\n",
       "      <td>4.28</td>\n",
       "      <td>2.26</td>\n",
       "      <td>20.0</td>\n",
       "      <td>120.0</td>\n",
       "      <td>1.59</td>\n",
       "      <td>0.69</td>\n",
       "      <td>0.43</td>\n",
       "      <td>1.35</td>\n",
       "      <td>10.20</td>\n",
       "      <td>0.59</td>\n",
       "      <td>1.56</td>\n",
       "      <td>835.0</td>\n",
       "      <td>2</td>\n",
       "    </tr>\n",
       "    <tr>\n",
       "      <th>176</th>\n",
       "      <td>13.17</td>\n",
       "      <td>2.59</td>\n",
       "      <td>2.37</td>\n",
       "      <td>20.0</td>\n",
       "      <td>120.0</td>\n",
       "      <td>1.65</td>\n",
       "      <td>0.68</td>\n",
       "      <td>0.53</td>\n",
       "      <td>1.46</td>\n",
       "      <td>9.30</td>\n",
       "      <td>0.60</td>\n",
       "      <td>1.62</td>\n",
       "      <td>840.0</td>\n",
       "      <td>2</td>\n",
       "    </tr>\n",
       "    <tr>\n",
       "      <th>177</th>\n",
       "      <td>14.13</td>\n",
       "      <td>4.10</td>\n",
       "      <td>2.74</td>\n",
       "      <td>24.5</td>\n",
       "      <td>96.0</td>\n",
       "      <td>2.05</td>\n",
       "      <td>0.76</td>\n",
       "      <td>0.56</td>\n",
       "      <td>1.35</td>\n",
       "      <td>9.20</td>\n",
       "      <td>0.61</td>\n",
       "      <td>1.60</td>\n",
       "      <td>560.0</td>\n",
       "      <td>2</td>\n",
       "    </tr>\n",
       "  </tbody>\n",
       "</table>\n",
       "<p>178 rows × 14 columns</p>\n",
       "</div>"
      ],
      "text/plain": [
       "     alcohol  malic_acid   ash  alcalinity_of_ash  magnesium  total_phenols  \\\n",
       "0      14.23        1.71  2.43               15.6      127.0           2.80   \n",
       "1      13.20        1.78  2.14               11.2      100.0           2.65   \n",
       "2      13.16        2.36  2.67               18.6      101.0           2.80   \n",
       "3      14.37        1.95  2.50               16.8      113.0           3.85   \n",
       "4      13.24        2.59  2.87               21.0      118.0           2.80   \n",
       "..       ...         ...   ...                ...        ...            ...   \n",
       "173    13.71        5.65  2.45               20.5       95.0           1.68   \n",
       "174    13.40        3.91  2.48               23.0      102.0           1.80   \n",
       "175    13.27        4.28  2.26               20.0      120.0           1.59   \n",
       "176    13.17        2.59  2.37               20.0      120.0           1.65   \n",
       "177    14.13        4.10  2.74               24.5       96.0           2.05   \n",
       "\n",
       "     flavanoids  nonflavanoid_phenols  proanthocyanins  color_intensity   hue  \\\n",
       "0          3.06                  0.28             2.29             5.64  1.04   \n",
       "1          2.76                  0.26             1.28             4.38  1.05   \n",
       "2          3.24                  0.30             2.81             5.68  1.03   \n",
       "3          3.49                  0.24             2.18             7.80  0.86   \n",
       "4          2.69                  0.39             1.82             4.32  1.04   \n",
       "..          ...                   ...              ...              ...   ...   \n",
       "173        0.61                  0.52             1.06             7.70  0.64   \n",
       "174        0.75                  0.43             1.41             7.30  0.70   \n",
       "175        0.69                  0.43             1.35            10.20  0.59   \n",
       "176        0.68                  0.53             1.46             9.30  0.60   \n",
       "177        0.76                  0.56             1.35             9.20  0.61   \n",
       "\n",
       "     od280/od315_of_diluted_wines  proline  target_class  \n",
       "0                            3.92   1065.0             0  \n",
       "1                            3.40   1050.0             0  \n",
       "2                            3.17   1185.0             0  \n",
       "3                            3.45   1480.0             0  \n",
       "4                            2.93    735.0             0  \n",
       "..                            ...      ...           ...  \n",
       "173                          1.74    740.0             2  \n",
       "174                          1.56    750.0             2  \n",
       "175                          1.56    835.0             2  \n",
       "176                          1.62    840.0             2  \n",
       "177                          1.60    560.0             2  \n",
       "\n",
       "[178 rows x 14 columns]"
      ]
     },
     "execution_count": 3,
     "metadata": {},
     "output_type": "execute_result"
    }
   ],
   "source": [
    "dict_data = load_wine(as_frame=True)\n",
    "data = dict_data['data']\n",
    "data['target_class'] = dict_data['target']\n",
    "\n",
    "visualization_data = data[['od280/od315_of_diluted_wines', 'flavanoids', 'target_class']]\n",
    "\n",
    "c0 = data[data['target_class'] == 0]\n",
    "c1 = data[data['target_class'] == 1]\n",
    "c2 = data[data['target_class'] == 2]\n",
    "\n",
    "x0, y0 = c0['od280/od315_of_diluted_wines'], c0['flavanoids']\n",
    "x1, y1 = c1['od280/od315_of_diluted_wines'], c1['flavanoids']\n",
    "x2, y2 = c2['od280/od315_of_diluted_wines'], c2['flavanoids']\n",
    "\n",
    "plt.scatter(x0, y0, marker='^')\n",
    "plt.scatter(x1, y1, marker='x')\n",
    "plt.scatter(x2, y2, marker='o')\n",
    "plt.show()\n",
    "\n",
    "data"
   ]
  },
  {
   "cell_type": "code",
   "execution_count": null,
   "id": "f1279d03-09f9-44fc-b22b-3978e9d93e93",
   "metadata": {},
   "outputs": [],
   "source": []
  }
 ],
 "metadata": {
  "kernelspec": {
   "display_name": "Python 3.9.12 ('base')",
   "language": "python",
   "name": "python3"
  },
  "language_info": {
   "codemirror_mode": {
    "name": "ipython",
    "version": 3
   },
   "file_extension": ".py",
   "mimetype": "text/x-python",
   "name": "python",
   "nbconvert_exporter": "python",
   "pygments_lexer": "ipython3",
   "version": "3.9.12"
  },
  "vscode": {
   "interpreter": {
    "hash": "d9a8acb4f733d3596df9f6fac9daff15e014d11794ebc65488d1c191c94698fd"
   }
  }
 },
 "nbformat": 4,
 "nbformat_minor": 5
}
